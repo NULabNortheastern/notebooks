{
  "cells": [
    {
      "cell_type": "markdown",
      "metadata": {
        "id": "3f2sJmDN8TqG"
      },
      "source": [
        "<img align=\"left\" src=\"https://ithaka-labs.s3.amazonaws.com/static-files/images/tdm/tdmdocs/CC_BY.png\"><br />\n",
        "\n",
        "Adapted by Sarah Connell from a notebook created by [Nathan Kelber](http://nkelber.com) and Ted Lawless for [JSTOR Labs](https://labs.jstor.org/) under [Creative Commons CC BY License](https://creativecommons.org/licenses/by/4.0/). See [here](https://ithaka.github.io/tdm-notebooks/book/all-notebooks.html) for the original version. Some contents were adapted from teaching notebooks created by Laura Nelson, University of British Columbia, and from [Python for Everybody](https://www.py4e.com/). Warm thanks to Kate Kryder, Data Analysis & Visualization Specialist at Northeastern University, for helping to develop these notebooks.<br />\n",
        "___"
      ]
    },
    {
      "cell_type": "markdown",
      "metadata": {
        "id": "UWFtTCX08TqI"
      },
      "source": [
        "# Python Data Structures"
      ]
    },
    {
      "cell_type": "markdown",
      "metadata": {
        "id": "PvS3iLZ_8TqI"
      },
      "source": [
        "So far, we've seen a few of Python's inbuilt data types: integers, floats, strings, and Booleans. This lesson will cover two additional data types: [tuples](https://constellate.org/docs/key-terms/#tuple) and [dictionaries](https://constellate.org/docs/key-terms/#dictionary). These help us store many values inside of a single variable.\n",
        "\n",
        "The fundamental difference between a tuple and a dictionary is that a tuple stores items in sequential order (starting from 0) while a dictionary stores items in key/value pairs. When we want to retrieve an item in a tuple, we use an index number or a set of index numbers as a reference. When we want to retrieve an item from a dictionary, we supply a key that returns the value (or set of values) associated with that key. Another important difference is that tuples are **immutable**, which means they can't be changed, but dictionaries are **mutable** and can be changed after they are initialized.\n",
        "\n",
        "Each of these approaches can be beneficial depending on what kind of data we are working with, and what we intend to do with the data."
      ]
    },
    {
      "cell_type": "markdown",
      "metadata": {
        "id": "_aGI-U5z8TqI"
      },
      "source": [
        "## Tuples\n",
        "\n",
        "A tuple can store anywhere from zero to millions of items. The items that can be stored in a tuple include the data types we have already learned: integers, floats, and strings—and a tuple may contain different data types. A tuple assignment statement takes the form:\n",
        "\n",
        "`my_tuple = (item1, item2, item3, item4)`\n",
        "\n",
        "with the items separated by commas and the tuple enclosed in parentheses."
      ]
    },
    {
      "cell_type": "code",
      "execution_count": null,
      "metadata": {
        "id": "cpKZcqAG8TqJ"
      },
      "outputs": [],
      "source": [
        "# A tuple containing integers\n",
        "my_favorite_numbers = (17, 19, 100)\n",
        "print(my_favorite_numbers)"
      ]
    },
    {
      "cell_type": "code",
      "execution_count": null,
      "metadata": {
        "id": "HAcWxVhf8TqK"
      },
      "outputs": [],
      "source": [
        "# A tuple containing strings\n",
        "my_favorite_philosophers = ('Margaret Cavendish', 'Mary Wollstonecraft', 'Hannah Arendt')\n",
        "print(my_favorite_philosophers)"
      ]
    },
    {
      "cell_type": "markdown",
      "metadata": {
        "id": "Q44Dd6mA8TqK"
      },
      "source": [
        "Both `my_favorite_numbers` and `my_favorite_philosophers` have three items, but we could have also initialized them with no items `my_favorite_numbers = ()` or many more items. Each item has an **index number** that depends on their order. The first item is 0, the second item is 1, the third item is 2, etc. In the `my_favorite_philosophers` tuple, `'Hannah Arendt'` is item 2.\n",
        "\n",
        "To retrieve an item from a tuple, we put the name of the tuple, followed by the index number for the item we want to retrieve in square brackets."
      ]
    },
    {
      "cell_type": "code",
      "execution_count": null,
      "metadata": {
        "id": "zPFWj-l58TqK"
      },
      "outputs": [],
      "source": [
        "# Retrieving an item in a tuple\n",
        "my_favorite_philosophers[2]"
      ]
    },
    {
      "cell_type": "markdown",
      "metadata": {
        "id": "EAPEAUUF8TqL"
      },
      "source": [
        "What do you think will happen if we change the index number to 1? What about 3? "
      ]
    },
    {
      "cell_type": "markdown",
      "metadata": {
        "id": "_hVm0vXk8TqL"
      },
      "source": [
        "Tuples can also contain other tuples. To retrieve a value from a tuple within a tuple, we use two indexes (or indices)."
      ]
    },
    {
      "cell_type": "code",
      "execution_count": null,
      "metadata": {
        "id": "b4--j7LI8TqL"
      },
      "outputs": [],
      "source": [
        "# Retrieving an item from a tuple within a tuple\n",
        "my_favorite_philosophers = (('Margaret Cavendish', 'Mary Wollstonecraft', 'Hannah Arendt'),\n",
        "                            ('Anne Conway', 'Mary Astell', 'Judith Butler'))\n",
        "my_favorite_philosophers[0][2]"
      ]
    },
    {
      "cell_type": "markdown",
      "metadata": {
        "id": "99etOvW88TqL"
      },
      "source": [
        "How would you change the index above to retrieve Mary Astell?"
      ]
    },
    {
      "cell_type": "markdown",
      "metadata": {
        "id": "ZpMujX028TqL"
      },
      "source": [
        "We can retrieve a group of consecutive items from a tuple using [slices](https://constellate.org/docs/key-terms/#slice) instead of a single index number. We create a **slice** by indicating a starting and ending index number, separated by a colon. The slice contains all the items between our starting and stopping index number."
      ]
    },
    {
      "cell_type": "code",
      "execution_count": null,
      "metadata": {
        "id": "QRZSV3Mp8TqM"
      },
      "outputs": [],
      "source": [
        "# Taking a slice of a tuple\n",
        "historical_periods = ('Classical Antiquity',\n",
        "                      'Early Middle Ages', \n",
        "                      'High Middle Ages', \n",
        "                      'Late Middle Ages', \n",
        "                      'Early Modern Period', \n",
        "                      'Late Modern Period', \n",
        "                      'Contemporary History')\n",
        "historical_periods[3:5]"
      ]
    },
    {
      "cell_type": "markdown",
      "metadata": {
        "id": "739rz0dK8TqM"
      },
      "source": [
        "Notice that the second index in a slice is the stopping point. This can be confusing if you were expecting three items instead of two. One way to remember this is by subtracting the indexes in your head (5 - 3 = 2 items).\n",
        "\n",
        "It is not uncommon for tuples to be hundreds or thousands of items long.  If you want to know the length of a tuple, you can use the `len()` function."
      ]
    },
    {
      "cell_type": "code",
      "execution_count": null,
      "metadata": {
        "id": "ITYtjpql8TqM"
      },
      "outputs": [],
      "source": [
        "# Using the len() function to discover the number of items in the tuple\n",
        "len(historical_periods)"
      ]
    },
    {
      "cell_type": "markdown",
      "metadata": {
        "id": "zg97ncyC8TqM"
      },
      "source": [
        "### The `in` and `not in` Operators\n",
        "\n",
        "If we have a long tuple, it may be helpful to check whether a value is in the tuple. We can do this with the `in` and `not in` operators, which return a boolean value: **True** or **False**."
      ]
    },
    {
      "cell_type": "code",
      "execution_count": null,
      "metadata": {
        "id": "m42YPgwN8TqM",
        "colab": {
          "base_uri": "https://localhost:8080/"
        },
        "outputId": "063381f2-375f-41e8-c5f0-0081bba01c2d"
      },
      "outputs": [
        {
          "output_type": "execute_result",
          "data": {
            "text/plain": [
              "True"
            ]
          },
          "metadata": {},
          "execution_count": 1
        }
      ],
      "source": [
        "# Checking whether an item is in a tuple using the `in` operator\n",
        "\n",
        "# Create a tuple called `restaurants_near_northeastern`\n",
        "restaurants_near_northeastern = ('B.GOOD',\n",
        " 'Starbucks',\n",
        " 'Dunkin Donuts' ,\n",
        " 'Amelias Taqueria',\n",
        " 'Tatte',\n",
        " 'Sweet Tomatoes',\n",
        " 'Mamacita',\n",
        " 'Kigo Kitchen',\n",
        " 'QDOBA',\n",
        " 'Popeyes',\n",
        " 'University House of Pizza',\n",
        " 'Boston Shawarma',\n",
        " 'Gyroscope',\n",
        " 'Our House East',\n",
        " 'Caffe Strega',\n",
        " 'Ginger Exchange',\n",
        " 'Pho and I',\n",
        " 'Panera')\n",
        "\n",
        "# Check whether a restaurant is in restaurants_near_northeastern\n",
        "'Tatte' in restaurants_near_northeastern"
      ]
    },
    {
      "cell_type": "code",
      "execution_count": null,
      "metadata": {
        "id": "IIBM2fvk8TqN"
      },
      "outputs": [],
      "source": [
        "# Is \"Wagamama\" in restaurants_near_northeastern? \n",
        "# What about \"Qdoba\"? \n",
        "# What happens if we change `in` to `not in`?\n"
      ]
    },
    {
      "cell_type": "markdown",
      "metadata": {
        "id": "DG54biC48TqN"
      },
      "source": [
        "**Note:** We won't be covering them in this lesson, but if you continue working with Python you will probably encounter another important data type: **lists**. Lists are very similar to tuples, but, unlike tuples, they can be changed after they are initialized. That is, the main difference between lists and tuples is that lists are **mutable**. Tuples are immutable; they cannot be changed once they are initialized. If you want to learn more about lists, see [here](https://www.w3schools.com/python/python_lists.asp)."
      ]
    },
    {
      "cell_type": "markdown",
      "metadata": {
        "id": "W3SmeCZB8TqN"
      },
      "source": [
        "## Dictionaries\n",
        "\n",
        "Like a tuple, a [dictionary](https://docs.constellate.org/key-terms/#dictionary) can hold many values within a single variable. We have seen that the items of a tuple are stored in a strictly-ordered fashion, starting from item 0. In a dictionary, each [value](https://docs.constellate.org/key-terms/#key-value-pair) is stored in relation to a descriptive [key](https://docs.constellate.org/key-terms/#key-value-pair) forming a [key/value pair](https://docs.constellate.org/key-terms/#key-value-pair). This structure makes dictionaries very useful, because you can supply a key and receive a value without needing to refer to a specific index number. You are not allowed to have duplicate keys in Python dictionaries; each key can be used only once.\n",
        "\n",
        "Whereas a tuple is typed with parentheses `()`, a dictionary is typed with braces `{}`.  \n",
        "\n",
        "`example_dictionary = {key1 : value1, key2 : value2, key3 : value3}`\n",
        "\n",
        "Another important difference between dictionaries and tuples is that dictionaries are mutable: they can be changed after they are initialized. \n",
        "\n",
        "The values in dictionaries can be any data type. The keys can be most data types, including integers, floats, and strings; however, dictionary keys cannot be **mutable** data types like lists or dictionaries. You can have a mix of different data types within a dictionary.\n",
        "\n",
        "Here is an example dictionary with the menu items from a restaurant as **keys** and their prices as **values**. \n"
      ]
    },
    {
      "cell_type": "code",
      "execution_count": null,
      "metadata": {
        "id": "BW8UuSdj8TqN"
      },
      "outputs": [],
      "source": [
        "# An example of a dictionary storing menu items and prices\n",
        "breakfast_menu ={\n",
        " 'Breakfast Sandwich': 9.75,\n",
        " 'Croissant Breakfast Sandwich': 11.0,\n",
        " 'Biscuit Sandwich': 9.0,\n",
        " 'Spinach, Sunchoke, & Egg Plate': 11.0,\n",
        " 'Salmon, Avocado, and Egg Sandwich': 11.50,\n",
        " 'Scrambled Egg Plate': 9.75,\n",
        " 'Museli': 6.50,\n",
        " 'Hash': 14.50,\n",
        " 'Egg in a Hole': 12,\n",
        " 'Croque Madame': 13.50,\n",
        " 'Bread & Butter': 6.0}"
      ]
    },
    {
      "cell_type": "code",
      "execution_count": null,
      "metadata": {
        "id": "IE9OsiUs8TqN"
      },
      "outputs": [],
      "source": [
        "# Let's take a look at what we just created\n",
        "print(breakfast_menu)"
      ]
    },
    {
      "cell_type": "code",
      "source": [
        "# If you don't like the look of that, you can use this code instead\n",
        "# We'll talk more about what is happening here in our lesson on importing functions\n",
        "from pprint import pprint\n",
        "pprint(breakfast_menu)"
      ],
      "metadata": {
        "id": "qU73R10cBCjb"
      },
      "execution_count": null,
      "outputs": []
    },
    {
      "cell_type": "markdown",
      "metadata": {
        "id": "TwqGsY0S8TqN"
      },
      "source": [
        "We relied on order to reference the items in our tuples by their index numbers. Dictionaries are different. We use the keys to look up corresponding values, in this format:\n",
        "`dictionary_name[key]`\n",
        "\n",
        "For example: "
      ]
    },
    {
      "cell_type": "code",
      "execution_count": null,
      "metadata": {
        "id": "jUN28Z7P8TqN"
      },
      "outputs": [],
      "source": [
        "breakfast_menu['Breakfast Sandwich']"
      ]
    },
    {
      "cell_type": "markdown",
      "metadata": {
        "id": "4w0SsmUb8TqO"
      },
      "source": [
        "The key `'Breakfast Sandwich'` always maps to the value `9.75` so the order of the items doesn’t matter.\n",
        "\n",
        "This is very different from tuples, where changing the order of the items will also change the item that is retrieved for a particular index number. \n",
        "\n",
        "For example:"
      ]
    },
    {
      "cell_type": "code",
      "source": [
        "# Re-initializing my_favorite_philosophers if this is a new session\n",
        "my_favorite_philosophers = ('Margaret Cavendish', 'Mary Wollstonecraft', 'Hannah Arendt')"
      ],
      "metadata": {
        "id": "kx4Jxd-Fvet1"
      },
      "execution_count": null,
      "outputs": []
    },
    {
      "cell_type": "code",
      "source": [
        "# Retrieving an item from the tuple\n",
        "my_favorite_philosophers[0]"
      ],
      "metadata": {
        "id": "K1xTklOzueXu",
        "colab": {
          "base_uri": "https://localhost:8080/",
          "height": 35
        },
        "outputId": "86b66bb5-4567-4646-c9dd-5840db731f6f"
      },
      "execution_count": null,
      "outputs": [
        {
          "output_type": "execute_result",
          "data": {
            "application/vnd.google.colaboratory.intrinsic+json": {
              "type": "string"
            },
            "text/plain": [
              "'Margaret Cavendish'"
            ]
          },
          "metadata": {},
          "execution_count": 4
        }
      ]
    },
    {
      "cell_type": "code",
      "source": [
        "# Overwriting the tuple with a different order of items\n",
        "my_favorite_philosophers = ('Hannah Arendt', 'Mary Wollstonecraft', 'Margaret Cavendish')\n"
      ],
      "metadata": {
        "id": "NY3JFLNyuee1"
      },
      "execution_count": null,
      "outputs": []
    },
    {
      "cell_type": "code",
      "source": [
        "# Retrieving a different item with the same index number\n",
        "my_favorite_philosophers[0]"
      ],
      "metadata": {
        "id": "gm5MMJKhu3Xm"
      },
      "execution_count": null,
      "outputs": []
    },
    {
      "cell_type": "markdown",
      "source": [
        "Try it yourself! In the code block below, call up the values for `Museli` and for `Egg in a Hole`. Make sure to pay attention to the capitalization–remember that everything is case sensitive!"
      ],
      "metadata": {
        "id": "lECybKqpuST0"
      }
    },
    {
      "cell_type": "code",
      "execution_count": null,
      "metadata": {
        "id": "Y6hbmy0x8TqO"
      },
      "outputs": [],
      "source": [
        "# Fill in your code here\n",
        "# What happens if you enter a key that is not in our dictionary?"
      ]
    },
    {
      "cell_type": "markdown",
      "metadata": {
        "id": "PO57DnbU8TqO"
      },
      "source": [
        "We noted above that dictionaries, unlike tuples, are mutable: we can change them. For example, we might want to add a key/value pair to our dictionary, like so:"
      ]
    },
    {
      "cell_type": "code",
      "execution_count": null,
      "metadata": {
        "id": "YpOW5GPE8TqO"
      },
      "outputs": [],
      "source": [
        "breakfast_menu['Waffle'] = 12.00"
      ]
    },
    {
      "cell_type": "code",
      "execution_count": null,
      "metadata": {
        "id": "UHPLtHX-8TqO"
      },
      "outputs": [],
      "source": [
        "# When we print breakfast_menu, we can see that it has been updated:\n",
        "print(breakfast_menu)\n",
        "\n",
        "# Or, un-comment-out the line below to use the \"pretty print\" function\n",
        "# You will need to comment out the first line, unless you want to print the dictionary twice!\n",
        "# And, be careful about the indentation!\n",
        "#pprint(breakfast_menu)"
      ]
    },
    {
      "cell_type": "markdown",
      "metadata": {
        "id": "55Ys_hYQ8TqP"
      },
      "source": [
        "You can also change the values in a dictionary. Maybe we want to raise the price of the Scrambled Egg Plate:"
      ]
    },
    {
      "cell_type": "code",
      "execution_count": null,
      "metadata": {
        "id": "4mu8uEnq8TqP"
      },
      "outputs": [],
      "source": [
        "breakfast_menu['Scrambled Egg Plate'] = 20.00"
      ]
    },
    {
      "cell_type": "code",
      "execution_count": null,
      "metadata": {
        "id": "sVoJmOR48TqP"
      },
      "outputs": [],
      "source": [
        "# In this code block, call up the value of the 'Scrambled Egg Plate' key to confirm our change\n"
      ]
    },
    {
      "cell_type": "markdown",
      "metadata": {
        "id": "7huLQ8278TqP"
      },
      "source": [
        "We can use the `type` function with dictionaries and tuples, just like we did with other data types."
      ]
    },
    {
      "cell_type": "code",
      "execution_count": null,
      "metadata": {
        "id": "UX1XQ6sk8TqP"
      },
      "outputs": [],
      "source": [
        "# Run this to check the type of a tuple, then check the type of breakfast_menu to check a dictionary\n",
        "type(my_favorite_philosophers)"
      ]
    },
    {
      "cell_type": "markdown",
      "metadata": {
        "id": "Aix2KwKT8TqQ"
      },
      "source": [
        "The `len` function works on dictionaries; it returns the number of key/value pairs:"
      ]
    },
    {
      "cell_type": "code",
      "execution_count": null,
      "metadata": {
        "id": "GP0K7x4g8TqQ"
      },
      "outputs": [],
      "source": [
        "len(breakfast_menu)"
      ]
    },
    {
      "cell_type": "markdown",
      "metadata": {
        "id": "uG6plBLW8TqQ"
      },
      "source": [
        "The `in` operator works on dictionaries; it tells you whether something appears as a key in the dictionary (appearing as a value is not good enough)."
      ]
    },
    {
      "cell_type": "code",
      "execution_count": null,
      "metadata": {
        "id": "WK-PB8Nc8TqQ"
      },
      "outputs": [],
      "source": [
        "'Hash' in breakfast_menu"
      ]
    },
    {
      "cell_type": "code",
      "execution_count": null,
      "metadata": {
        "id": "y-_Scho78TqQ"
      },
      "outputs": [],
      "source": [
        "9.75 in breakfast_menu"
      ]
    },
    {
      "cell_type": "markdown",
      "metadata": {
        "id": "4unnFhqC8TqQ"
      },
      "source": [
        "**Note**: You won't need it for this project, but if you're curious, here is how you would check to see if a value is in a dictionary:"
      ]
    },
    {
      "cell_type": "code",
      "execution_count": null,
      "metadata": {
        "id": "Oj9-ltt-8TqQ"
      },
      "outputs": [],
      "source": [
        "9.75 in breakfast_menu.values()"
      ]
    },
    {
      "cell_type": "markdown",
      "metadata": {
        "id": "7PwLl5P-8TqR"
      },
      "source": [
        "We can also use dictionaries and tuples in conditional statements. For example, the code below initializes a variable called `menu_item` and then uses an `if` statement to check whether `menu_item` is a key in the `breakfast_menu` dictionary. \n",
        "\n",
        "If it is, the code prints the concatenation of \"The price is $ \" and the value associated with `menu_item` (converted to a string). If `menu_item` is not a key in the `breakfast_menu` dictionary, the code prints instead \"Sorry, this is not in our menu!\"\n",
        "\n",
        "**Note**: This example shows a simpler approach to printing than concatenation; you just print the string and then print the value. This means that we don't need to change the data type of the value we are retrieving to concatenate it with a string. However, if the spacing bothers you, you could fix this by using concatenation instead. "
      ]
    },
    {
      "cell_type": "code",
      "execution_count": null,
      "metadata": {
        "id": "uvISw14F8TqR"
      },
      "outputs": [],
      "source": [
        "# Run this, then try changing menu_item to look up a different string\n",
        "menu_item = 'Hash'\n",
        "if menu_item in breakfast_menu:\n",
        "    print('The price is $',breakfast_menu[menu_item])\n",
        "else:\n",
        "    print('Sorry, this is not in our menu!')"
      ]
    },
    {
      "cell_type": "markdown",
      "source": [
        "The code above might also have been written using the `input()` function to make it a bit more flexible:"
      ],
      "metadata": {
        "id": "xAjTwJ4-doGn"
      }
    },
    {
      "cell_type": "code",
      "source": [
        "# Using `input()` to initialize the menu_item variable\n",
        "menu_item = input(\"What would you like for breakfast? \")\n",
        "if menu_item in breakfast_menu:\n",
        "    print('The price is $',breakfast_menu[menu_item])\n",
        "else:\n",
        "    print('Sorry, this is not in our menu!')"
      ],
      "metadata": {
        "id": "-KjLrPXVf0I1"
      },
      "execution_count": null,
      "outputs": []
    },
    {
      "cell_type": "markdown",
      "metadata": {
        "id": "JX_NAGiR8TqR"
      },
      "source": [
        "As we saw above, Python data structures can be nested within each other. For example, you might have a set of tuples within a dictionary. \n",
        "\n",
        "**Note**: Just a quick reminder that mutable data types like lists and dictionaries cannot be keys in dictionaries."
      ]
    },
    {
      "cell_type": "code",
      "execution_count": null,
      "metadata": {
        "id": "KoGLFAXI8TqR"
      },
      "outputs": [],
      "source": [
        "breakfast_menu_sizes ={\n",
        " ('Breakfast Sandwich', 'regular'): 9.75,\n",
        " ('Breakfast Sandwich', 'large'): 10.75,\n",
        " ('Croissant Breakfast Sandwich', 'regular'): 11.00,\n",
        " ('Croissant Breakfast Sandwich', 'large'): 12.00,\n",
        " ('Biscuit Sandwich', 'regular'): 9.00,\n",
        " ('Biscuit Sandwich', 'large'): 10.00,}"
      ]
    },
    {
      "cell_type": "markdown",
      "metadata": {
        "id": "hL7ZhT7t8TqS"
      },
      "source": [
        "The code above initializes a dictionary that contains a set of key/value pairs. Each of the keys is a tuple, which itself contains two strings. Each of the values is a float. This kind of nesting can be confusing at first, but it gets easier if you read through the structure carefully and you remember how the different data types are expressed. \n",
        "\n",
        "You can use the same tools you've already learned to retrieve or modify the items in this dictionary. For example:"
      ]
    },
    {
      "cell_type": "code",
      "source": [
        "breakfast_menu_sizes[('Breakfast Sandwich', 'regular')]"
      ],
      "metadata": {
        "id": "8TNkaye1B7Mu"
      },
      "execution_count": null,
      "outputs": []
    },
    {
      "cell_type": "markdown",
      "source": [
        "Or, you might have dictionaries that contain other dictionaries. These are called **nested** dictionaries. \n",
        "\n",
        "For example, each of the values in `cavendish_publications` below is itself a dictionary. "
      ],
      "metadata": {
        "id": "LguI1M9XgQFo"
      }
    },
    {
      "cell_type": "code",
      "source": [
        "# Initialize the cavendish_publications dictionary\n",
        "cavendish_publications = {\n",
        "  \"observations\" : {\n",
        "    \"title\" : \"Observations Upon Experimental Philosophy\",\n",
        "    \"pub_date\" : 1667,\n",
        "    \"genre\" : \"natural philosophy\"\n",
        "  },\n",
        "  \"william\" : {\n",
        "    \"name\" : \"The Life of the Thrice Noble, High and Puissant Prince William Cavendishe\",\n",
        "    \"year\" : 1666,\n",
        "    \"genre\": \"biography\"\n",
        "  },\n",
        "  \"blazing\" : {\n",
        "    \"name\" : \"The Blazing World\",\n",
        "    \"year\" : 1666,\n",
        "    \"genre\": \"science fiction\"\n",
        "  }\n",
        "}"
      ],
      "metadata": {
        "id": "SA2mjwBGjM7P"
      },
      "execution_count": null,
      "outputs": []
    },
    {
      "cell_type": "code",
      "source": [
        "# You can retrieve items from nested dictionaries like so\n",
        "cavendish_publications['blazing']['genre']"
      ],
      "metadata": {
        "id": "yUezy6yEjO0B"
      },
      "execution_count": null,
      "outputs": []
    },
    {
      "cell_type": "markdown",
      "source": [
        "## Sets \n",
        "\n",
        "Our focus here has been on tuples and dictionaries, but we are briefly going to discuss one more data type: **sets**. Sets are the last of the four data types in Python that can store collections of data. To recap: these are tuples, lists, sets, and dictionaries.\n",
        "\n",
        "Sets are expressed like so:\n",
        "\n",
        "`example_set = {\"item1\", \"item2\", \"item3\"}`\n",
        "\n",
        "Sets are **unordered** and **unindexed**. That means that the items in a set could be in a different order any time you reference them. You cannot refer to the items in a set by index numbers, as you do with tuples. You'll also note from our example that the items in a set are not keyed, as with dictionaries. Because sets are unindexed, you are not allowed to have duplicate values.\n",
        "\n",
        "You cannot change the items in a set once the set has been initialized. However, you can remove items or add new ones. Taking our generic example, this means that we could remove `item3` or add `item4`, but we couldn't change `item1` to `item_one`.\n",
        "\n",
        "Sets may contain a mix of different data types. However, sets cannot contain **mutable** data types like dictionaries or lists."
      ],
      "metadata": {
        "id": "TwOqRclKu1rv"
      }
    },
    {
      "cell_type": "code",
      "source": [
        "# Initializing an example set\n",
        "my_favorites = {\"green\", 19, \"lily of the valley\", \"blackberries\", \"cookie dough\"}"
      ],
      "metadata": {
        "id": "CtRguQluw1we"
      },
      "execution_count": null,
      "outputs": []
    },
    {
      "cell_type": "code",
      "source": [
        "# We can use the `len()` function to determine the length of a set\n",
        "len(my_favorites)"
      ],
      "metadata": {
        "id": "xUb-W7U_w3Ej"
      },
      "execution_count": null,
      "outputs": []
    },
    {
      "cell_type": "code",
      "source": [
        "# And, we can use `type()` as well\n",
        "type(my_favorites)"
      ],
      "metadata": {
        "id": "g32ac8dr1Hzh"
      },
      "execution_count": null,
      "outputs": []
    },
    {
      "cell_type": "markdown",
      "source": [
        "One thing that makes sets useful is that they do not allow repeat items: this means that putting items into a set is an effective way of removing any duplicates. Sets are also useful for certain math operations that we aren't going to get into here but that you'll see in the future."
      ],
      "metadata": {
        "id": "1Xwjg_7u2VWP"
      }
    },
    {
      "cell_type": "code",
      "source": [
        "# If you do put duplicate values in a set, they will be ignored\n",
        "my_absolute_favorites = {\"green\", 19, \"lily of the valley\", \"blackberries\", \"cookie dough\",\"green\"}\n",
        "print(my_absolute_favorites)"
      ],
      "metadata": {
        "id": "MDxioFT42TG_"
      },
      "execution_count": null,
      "outputs": []
    },
    {
      "cell_type": "markdown",
      "metadata": {
        "id": "sX355ETZ8TqS"
      },
      "source": [
        "That's it on tuples, dictionaries, sets, and lists! In our next lesson, we'll cover how to write code that can iterate through these data structures and perform repeated tasks."
      ]
    },
    {
      "cell_type": "markdown",
      "metadata": {
        "id": "62AYsqZE8TqS"
      },
      "source": [
        "# Practice Exercises\n",
        "As with the previous two lessons, you should first try running the quick exercises in this notebook, and practice making changes and testing their results. "
      ]
    },
    {
      "cell_type": "markdown",
      "metadata": {
        "id": "w9TCyiQL8TqS"
      },
      "source": [
        "**Exercise One**"
      ]
    },
    {
      "cell_type": "markdown",
      "metadata": {
        "id": "jqgRsAyI8TqS"
      },
      "source": [
        "Initialize a tuple called `class_topics` that contains the following strings, in this exact order: \"Introduction to the Course\", \"Types of Inference\", \"Probability Theory\", \"Programming Fundamentals\", \"Bayesian Inference\", \"Probabilistic Graphical Models\", \"Information Theory\", and \"Advanced Topics\"."
      ]
    },
    {
      "cell_type": "code",
      "execution_count": null,
      "metadata": {
        "id": "8H6GGZlT8TqS"
      },
      "outputs": [],
      "source": [
        "# Initialize the class_topics tuple here"
      ]
    },
    {
      "cell_type": "markdown",
      "metadata": {
        "id": "56XMErM88TqT"
      },
      "source": [
        "Now, using its index number, retrieve \"Probability Theory\" from the `class_topics` tuple."
      ]
    },
    {
      "cell_type": "code",
      "execution_count": null,
      "metadata": {
        "id": "bRzHSX008TqT"
      },
      "outputs": [],
      "source": [
        "# Fill in your code here"
      ]
    },
    {
      "cell_type": "markdown",
      "metadata": {
        "id": "LkvCuQ4E8TqT"
      },
      "source": [
        "Finally, take a slice that retrieves \"Bayesian Inference\", \"Probabilistic Graphical Models\", and \"Information Theory\"."
      ]
    },
    {
      "cell_type": "code",
      "execution_count": null,
      "metadata": {
        "id": "b_2XIpgm8TqT"
      },
      "outputs": [],
      "source": [
        "# Fill in your code here"
      ]
    },
    {
      "cell_type": "markdown",
      "metadata": {
        "id": "6lzOPgZ58TqT"
      },
      "source": [
        "**Exercise Two**"
      ]
    },
    {
      "cell_type": "markdown",
      "metadata": {
        "id": "HhJ4GwBS8TqT"
      },
      "source": [
        "Initialize a dictionary called `snowfall_totals` with the following key/value pairs:\n",
        "<br>Boston: 24.5\n",
        "<br>Brookline: 15\n",
        "<br>Cambridge: 14\n",
        "<br>Framingham: 12.2\n",
        "<br>Malden: 20\n",
        "<br>Wakefield: 21.2\n",
        "\n",
        "Make sure to change the town names to strings!"
      ]
    },
    {
      "cell_type": "code",
      "execution_count": null,
      "metadata": {
        "id": "MDs00--c8TqT"
      },
      "outputs": [],
      "source": [
        "# Initialize your dictionary \n",
        "# Then, use `len` to check the length\n"
      ]
    },
    {
      "cell_type": "markdown",
      "metadata": {
        "id": "MtDhFtO88TqU"
      },
      "source": [
        "Now, add a new key/value pair to your dictionary:\n",
        "<br>Norwood: 19.5"
      ]
    },
    {
      "cell_type": "code",
      "execution_count": null,
      "metadata": {
        "id": "FoiaDtId8TqU"
      },
      "outputs": [],
      "source": [
        "# Add the new key/value pair for Norwood's snowfall\n",
        "# Then use `len` to check the length\n"
      ]
    },
    {
      "cell_type": "markdown",
      "metadata": {
        "id": "-q8nraRQ8TqU"
      },
      "source": [
        "This just in! Wakefield actually got 22.4 inches of snowfall. Update the value in the code block below. "
      ]
    },
    {
      "cell_type": "code",
      "execution_count": null,
      "metadata": {
        "id": "CPMikJLU8TqU"
      },
      "outputs": [],
      "source": [
        "# Update the value for Wakefield to 22.4\n"
      ]
    },
    {
      "cell_type": "markdown",
      "metadata": {
        "id": "gW0Up-TM8TqU"
      },
      "source": [
        "Finally, call up the value of Wakefield to confirm that your change went through. "
      ]
    },
    {
      "cell_type": "code",
      "execution_count": null,
      "metadata": {
        "id": "oWdCkp4Y8TqU"
      },
      "outputs": [],
      "source": [
        "# Call up the value of Wakefield\n"
      ]
    },
    {
      "cell_type": "markdown",
      "metadata": {
        "id": "ta06uHdN8TqU"
      },
      "source": [
        "**Exercise Three**"
      ]
    },
    {
      "cell_type": "markdown",
      "metadata": {
        "id": "MHqpjrlo8TqU"
      },
      "source": [
        "Below is a dictionary with information on the Boston subway system, lightly modified for convenience. Each **key** is a tuple with two strings: the line and the direction (in Boston, \"C\" can be a direction). Each **value** is a string with the last stop of that line and direction."
      ]
    },
    {
      "cell_type": "code",
      "execution_count": null,
      "metadata": {
        "id": "vP_veC8S8TqU"
      },
      "outputs": [],
      "source": [
        "t_stops = {(\"orange\", \"north\"):\"Oak Grove\",\n",
        "           (\"orange\", \"south\"):\"Forest Hills\",\n",
        "           (\"blue\", \"north\"):\"Wonderland\",\n",
        "           (\"blue\", \"south\"):\"Bowdoin\",\n",
        "           (\"red\", \"north\"):\"Alewife\",\n",
        "           (\"red\", \"southeast\"):\"Braintree\",\n",
        "           (\"red\", \"southwest\"):\"Mattapan\",          \n",
        "           (\"green\", \"north\"):\"Lechmere\",\n",
        "           (\"green\", \"B\"):\"Boston College\",\n",
        "           (\"green\", \"C\"):\"Cleveland Circle\",\n",
        "           (\"green\", \"D\"):\"Riverside\",\n",
        "           (\"green\", \"E\"):\"Heath Street\"}"
      ]
    },
    {
      "cell_type": "markdown",
      "metadata": {
        "id": "hZbZRIHB8TqV"
      },
      "source": [
        "Now, we will construct a program using `if` and `else` that does one of two things:\n",
        "1. If the user input matches a key from the dictionary, the program prints out \"Your last stop is \" concatenated with the value for that key.\n",
        "2. If the user input does not match a key from the dictionary, the program prints \"Are you sure you're on the T?\"\n",
        "\n",
        "We've provided some code to get you started with initializing the `my_direction` variable based on user input. You might want to run the template code first and then print `my_direction` to get a better sense of what you will be working with.\n",
        "\n",
        "**Hint**: You can look above in this notebook to the program for printing prices based on menu items for a model."
      ]
    },
    {
      "cell_type": "code",
      "execution_count": null,
      "metadata": {
        "id": "XX11eXdp8TqV"
      },
      "outputs": [],
      "source": [
        "# This code will initialize the my_direction tuple based on user input\n",
        "my_line = input(\"What line are you on? \")\n",
        "my_heading = input(\"Which way are you going? \")\n",
        "my_direction = (my_line, my_heading) \n",
        "\n",
        "# Fill in your code here to write a program that either tells the user their last stop or asks if they are on the T"
      ]
    },
    {
      "cell_type": "markdown",
      "metadata": {
        "id": "P2-9TTjp8TqV"
      },
      "source": [
        "# Solutions\n",
        "These are some sample solutions, but (as we've already noted) you might have taken a different approach. "
      ]
    },
    {
      "cell_type": "code",
      "execution_count": null,
      "metadata": {
        "id": "lq6wyU5D8TqV"
      },
      "outputs": [],
      "source": [
        "# Exercise One\n",
        "# Initialize the class_topics tuple\n",
        "class_topics = (\"Introduction to the Course\", \"Types of Inference\", \"Probability Theory\", \"Programming Fundamentals\", \"Bayesian Inference\", \"Probabilistic Graphical Models\", \"Information Theory\", \"Advanced Topics\")"
      ]
    },
    {
      "cell_type": "code",
      "execution_count": null,
      "metadata": {
        "id": "gxJOhR-x8TqV"
      },
      "outputs": [],
      "source": [
        "# Exercise One\n",
        "# Retrieve \"Probability Theory\"\n",
        "class_topics[2]"
      ]
    },
    {
      "cell_type": "code",
      "execution_count": null,
      "metadata": {
        "id": "MbkupmUX8TqV"
      },
      "outputs": [],
      "source": [
        "# Exercise One\n",
        "# Retrieve \"Bayesian Inference\", \"Probabilistic Graphical Models\", and \"Information Theory\"\n",
        "class_topics[4:7]"
      ]
    },
    {
      "cell_type": "code",
      "execution_count": null,
      "metadata": {
        "id": "i4bENixZ8TqV"
      },
      "outputs": [],
      "source": [
        "# Exercise Two\n",
        "# Initialize your dictionary \n",
        "snowfall_totals = {\"Boston\": 24.5,\n",
        "\"Brookline\": 15,\n",
        "\"Cambridge\": 14,\n",
        "\"Framingham\": 12.2,\n",
        "\"Malden\": 20,\n",
        "\"Wakefield\": 21.2}"
      ]
    },
    {
      "cell_type": "code",
      "execution_count": null,
      "metadata": {
        "id": "IFAI7cdh8TqV"
      },
      "outputs": [],
      "source": [
        "# Exercise Two\n",
        "# Check the length of the dictionary\n",
        "len(snowfall_totals)"
      ]
    },
    {
      "cell_type": "code",
      "execution_count": null,
      "metadata": {
        "id": "4vrQWiPZ8TqW"
      },
      "outputs": [],
      "source": [
        "# Exercise Two\n",
        "# Add the new key/value pair for Norwood's snowfall \n",
        "# Then use `len` to check the length \n",
        "snowfall_totals['Norwood'] = 19.5\n",
        "len(snowfall_totals)"
      ]
    },
    {
      "cell_type": "code",
      "execution_count": null,
      "metadata": {
        "id": "NB7edXml8TqW"
      },
      "outputs": [],
      "source": [
        "# Exercise Two\n",
        "# Update the value for Wakefield to 22.4\n",
        "snowfall_totals['Wakefield'] = 22.4"
      ]
    },
    {
      "cell_type": "code",
      "execution_count": null,
      "metadata": {
        "id": "p4yceyvq8TqW"
      },
      "outputs": [],
      "source": [
        "# Exercise Two\n",
        "# Call up the value for Wakefield\n",
        "snowfall_totals['Wakefield']"
      ]
    },
    {
      "cell_type": "code",
      "execution_count": null,
      "metadata": {
        "id": "oMlODO6F8TqW"
      },
      "outputs": [],
      "source": [
        "# Exercise Three\n",
        "# Initialize the t_stops dictionary\n",
        "t_stops = {(\"orange\", \"north\"):\"Oak Grove\",\n",
        "           (\"orange\", \"south\"):\"Forest Hills\",\n",
        "           (\"blue\", \"north\"):\"Wonderland\",\n",
        "           (\"blue\", \"south\"):\"Bowdoin\",\n",
        "           (\"red\", \"north\"):\"Alewife\",\n",
        "           (\"red\", \"southeast\"):\"Braintree\",\n",
        "           (\"red\", \"southwest\"):\"Mattapan\",          \n",
        "           (\"green\", \"north\"):\"Lechmere\",\n",
        "           (\"green\", \"B\"):\"Boston College\",\n",
        "           (\"green\", \"C\"):\"Cleveland Circle\",\n",
        "           (\"green\", \"D\"):\"Riverside\",\n",
        "           (\"green\", \"E\"):\"Heath Street\",}\n",
        "\n",
        "# Initialize the my_direction tuple based on user input\n",
        "my_line = input(\"What line are you on? \")\n",
        "my_heading = input(\"Which way are you going? \")\n",
        "my_direction = (my_line, my_heading)\n",
        "\n",
        "# Use `if` and `else` to either inform the user of their last stop or ask if they are on the T\n",
        "if my_direction in t_stops:\n",
        "    print(\"Your last stop is \" + t_stops[my_direction]) \n",
        "else:\n",
        "    print(\"Are you sure you're on the T?\")"
      ]
    }
  ],
  "metadata": {
    "kernelspec": {
      "display_name": "Python 3",
      "language": "python",
      "name": "python3"
    },
    "language_info": {
      "codemirror_mode": {
        "name": "ipython",
        "version": 3
      },
      "file_extension": ".py",
      "mimetype": "text/x-python",
      "name": "python",
      "nbconvert_exporter": "python",
      "pygments_lexer": "ipython3",
      "version": "3.8.8"
    },
    "toc": {
      "base_numbering": 1,
      "nav_menu": {},
      "number_sections": true,
      "sideBar": true,
      "skip_h1_title": true,
      "title_cell": "Table of Contents",
      "title_sidebar": "Contents",
      "toc_cell": false,
      "toc_position": {
        "height": "calc(100% - 180px)",
        "left": "10px",
        "top": "150px",
        "width": "354px"
      },
      "toc_section_display": true,
      "toc_window_display": false
    },
    "colab": {
      "name": "3_DataStructures.ipynb",
      "provenance": [],
      "collapsed_sections": []
    }
  },
  "nbformat": 4,
  "nbformat_minor": 0
}