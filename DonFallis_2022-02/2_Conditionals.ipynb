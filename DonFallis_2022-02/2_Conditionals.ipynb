{
  "cells": [
    {
      "cell_type": "markdown",
      "metadata": {
        "id": "LK7RFCPYGBl7"
      },
      "source": [
        "<img align=\"left\" src=\"https://ithaka-labs.s3.amazonaws.com/static-files/images/tdm/tdmdocs/CC_BY.png\"><br />\n",
        "\n",
        "Adapted by Sarah Connell from a notebook created by [Nathan Kelber](http://nkelber.com) and Ted Lawless for [JSTOR Labs](https://labs.jstor.org/) under [Creative Commons CC BY License](https://creativecommons.org/licenses/by/4.0/). See [here](https://ithaka.github.io/tdm-notebooks/book/all-notebooks.html) for the original version. Some contents were adapted from teaching notebooks created by Laura Nelson, University of British Columbia, and from [Python for Everybody](https://www.py4e.com/). Warm thanks to Kate Kryder, Data Analysis & Visualization Specialist at Northeastern University, for helping to develop these notebooks.<br />\n",
        "___"
      ]
    },
    {
      "cell_type": "markdown",
      "metadata": {
        "id": "wm6pdv32GBl_"
      },
      "source": [
        "# Conditional execution\n",
        "In our first lesson, we covered some core concepts for working with Python: expressions, operators, data types, variables, and functions. Now, we're going to dive into some slightly more advanced topics, using \"control statements,\" which are statements that allow you to control the flow of your code. Today, we'll introduce **conditional execution**, which is code that only executes when certain conditions are met.\n",
        "\n",
        "When you're writing code, it's often useful to have different outcomes based on different inputs and contexts. This is actually true a lot of the time! For example, if you were trying to get to campus, you would proceed differently depending on your starting location, how much traffic there is, whether there are delays on any T lines, whether you have a Charlie card, if you have access to a bicycle, and so on. It's exactly the same with code: much of the time, you will want to say, \"if **this** thing is true, then run **this** code, but if **that** thing is true, then run **that** code.\""
      ]
    },
    {
      "cell_type": "markdown",
      "metadata": {
        "id": "M--7AY1IGBmA"
      },
      "source": [
        "### Boolean Values, Boolean Expressions, and Logical Operators\n",
        "\n",
        "We'll show you how to write such **conditional statements** in this lesson,  but first, let's start with a few concepts that will be useful in conditional execution: Boolean values, Boolean expressions, logical operators, and `in` statements."
      ]
    },
    {
      "cell_type": "markdown",
      "metadata": {
        "id": "KkY796j3GBmB"
      },
      "source": [
        "Let's start with Boolean values. **Boolean values** are one of Python's built-in data types, like the floats, integers, and strings we saw last time. They are used to represent the truth-value of expressions, essentially to say whether something is true or not.\n",
        "\n",
        "There are only two possible values for a Python Boolean: True or False. As we've already seen, Python is case-sensitive, so pay attention to the capitalization here!\n",
        "\n",
        "You can assign Boolean values to variables, as in the below:"
      ]
    },
    {
      "cell_type": "code",
      "execution_count": null,
      "metadata": {
        "id": "gQuXxtpxGBmB"
      },
      "outputs": [],
      "source": [
        "python_is_fun = True"
      ]
    },
    {
      "cell_type": "markdown",
      "metadata": {
        "id": "gM5IPTAdGBmC"
      },
      "source": [
        "With the code above, we've set the value of the `python_is_fun` variable to \"True.\" We can confirm this with the `print()` function:"
      ]
    },
    {
      "cell_type": "code",
      "execution_count": null,
      "metadata": {
        "id": "Vdv8A4KpGBmC",
        "colab": {
          "base_uri": "https://localhost:8080/"
        },
        "outputId": "fdadcc59-65d3-463d-8469-5e22cc60fe4b"
      },
      "outputs": [
        {
          "output_type": "stream",
          "name": "stdout",
          "text": [
            "True\n"
          ]
        }
      ],
      "source": [
        "print(python_is_fun)"
      ]
    },
    {
      "cell_type": "markdown",
      "metadata": {
        "id": "oRwAhtnxGBmD"
      },
      "source": [
        "As we've already learned, there are some words that are not allowed for variable names, and those include \"True\" and \"False.\" See what happens when you try to run the code below:"
      ]
    },
    {
      "cell_type": "code",
      "execution_count": null,
      "metadata": {
        "id": "vWmXixM9GBmE"
      },
      "outputs": [],
      "source": [
        "True = 'beauty'"
      ]
    },
    {
      "cell_type": "markdown",
      "metadata": {
        "id": "wWq_dWS3GBmE"
      },
      "source": [
        "Now, let's take a look at **Boolean expressions**. A **boolean expression** is an expression that is either true or false. \n",
        "\n",
        "The following examples use the **operator** ```==```, which compares two **operands** (the things that operators act upon) and produces `True` if they are equal and `False` otherwise. \n",
        "\n",
        "Make sure not to confuse this with the assignment operator, which uses a single equal sign: ```=``` "
      ]
    },
    {
      "cell_type": "code",
      "execution_count": null,
      "metadata": {
        "id": "7hkmxiwhGBmF"
      },
      "outputs": [],
      "source": [
        "# Comparing two values with the equality comparison operator ==\n",
        "5.5==5.5"
      ]
    },
    {
      "cell_type": "markdown",
      "metadata": {
        "id": "fHqq7ll1GBmF"
      },
      "source": [
        "We've actually seen this operator already, when we used ```==``` in the first lesson to compare different data types: "
      ]
    },
    {
      "cell_type": "code",
      "execution_count": null,
      "metadata": {
        "id": "Eew1ie5_GBmF"
      },
      "outputs": [],
      "source": [
        "5.5==\"5.5\""
      ]
    },
    {
      "cell_type": "markdown",
      "metadata": {
        "id": "uI5skkktGBmG"
      },
      "source": [
        "Let's practice writing a few boolean expressions:"
      ]
    },
    {
      "cell_type": "code",
      "execution_count": null,
      "metadata": {
        "id": "4Mo-jvuoGBmG"
      },
      "outputs": [],
      "source": [
        "# Compare two integers that have different values"
      ]
    },
    {
      "cell_type": "code",
      "execution_count": null,
      "metadata": {
        "id": "MSWMI4jhGBmG",
        "colab": {
          "base_uri": "https://localhost:8080/"
        },
        "outputId": "f3c89c7b-7602-4124-841d-41fda30cea2e"
      },
      "outputs": [
        {
          "output_type": "execute_result",
          "data": {
            "text/plain": [
              "True"
            ]
          },
          "metadata": {},
          "execution_count": 3
        }
      ],
      "source": [
        "# Now compare an integer and a float\n",
        "3 == 3.0"
      ]
    },
    {
      "cell_type": "markdown",
      "metadata": {
        "id": "4Oj2k8BsGBmH"
      },
      "source": [
        "There are some additional [comparison operators](https://docs.constellate.org/key-terms/#comparison-operator):\n",
        "\n",
        "|Operator|Meaning|\n",
        "|---|---|\n",
        "|==|Equal to|\n",
        "|!=|Not equal to|\n",
        "|<|Less than|\n",
        "|>|Greater than|\n",
        "|<=|Less than or equal to|\n",
        "|>=|Greater than or equal to|"
      ]
    },
    {
      "cell_type": "code",
      "execution_count": null,
      "metadata": {
        "id": "owP3h9umGBmH",
        "colab": {
          "base_uri": "https://localhost:8080/"
        },
        "outputId": "d745e145-ab7a-42fa-a74f-d06a7630052f"
      },
      "outputs": [
        {
          "output_type": "execute_result",
          "data": {
            "text/plain": [
              "False"
            ]
          },
          "metadata": {},
          "execution_count": 11
        }
      ],
      "source": [
        "# Try using a few of these operators\n",
        "not 1 < 4"
      ]
    },
    {
      "cell_type": "markdown",
      "metadata": {
        "id": "_5DOOdKCGBmH"
      },
      "source": [
        "We can also use comparison operators with variables:"
      ]
    },
    {
      "cell_type": "code",
      "execution_count": null,
      "metadata": {
        "id": "wK8br46nGBmI"
      },
      "outputs": [],
      "source": [
        "# Create a variable number_of_dogs and assign it the value of zero\n",
        "\n",
        "\n",
        "# Check whether number_of_dogs is greater than or equal to 1\n"
      ]
    },
    {
      "cell_type": "markdown",
      "metadata": {
        "id": "XJrBoo7AGBmI"
      },
      "source": [
        "In Python, there are three **logical operators**: ```and```, ```or```, and ```not```. The semantics of these operators is similar to their meaning in English. For example,\n",
        "\n",
        "```x > 0 and x < 10```\n",
        "\n",
        "is true only if x is greater than 0 and less than 10.\n",
        "\n",
        "However\n",
        "\n",
        "```x > 0 or x < 10``` is true if ***either*** of the conditions is true. So, this would be true as long as x is greater than zero or less than 10. \n",
        "\n",
        "Finally, the ```not``` operator negates a boolean expression, so ```not (x > y)``` is true if x > y is false; that is, if x is less than or equal to y."
      ]
    },
    {
      "cell_type": "code",
      "execution_count": null,
      "metadata": {
        "id": "D_PHbyy6GBmI"
      },
      "outputs": [],
      "source": [
        "# What do you think the evaluation will be here?\n",
        "2==3 and 3>1"
      ]
    },
    {
      "cell_type": "code",
      "execution_count": null,
      "metadata": {
        "id": "v0JYyl85GBmI"
      },
      "outputs": [],
      "source": [
        "# What will the evaluation be here?\n",
        "2==3 or 3>1"
      ]
    },
    {
      "cell_type": "code",
      "execution_count": null,
      "metadata": {
        "id": "OWCz16ahGBmI",
        "colab": {
          "base_uri": "https://localhost:8080/"
        },
        "outputId": "760c6b9d-f733-41d4-9c6c-a5ce43f7c117"
      },
      "outputs": [
        {
          "output_type": "execute_result",
          "data": {
            "text/plain": [
              "False"
            ]
          },
          "metadata": {},
          "execution_count": 12
        }
      ],
      "source": [
        "# What about here? \n",
        "# What could you change the value of x to so that the evaluation is 'False' \n",
        "x = 10\n",
        "x < 1 or x != 10"
      ]
    },
    {
      "cell_type": "markdown",
      "metadata": {
        "id": "nXmWdvGGGBmM"
      },
      "source": [
        "One more useful operator is `in`. The `in` operator is another operator that will return a boolean result of either `true` or `false`. It asks whether one string is in another. We will also use the `in` operator on other data types later on.  "
      ]
    },
    {
      "cell_type": "code",
      "execution_count": null,
      "metadata": {
        "id": "hCGFOg0pGBmN",
        "colab": {
          "base_uri": "https://localhost:8080/"
        },
        "outputId": "06d5e9b4-4ef8-4244-8be2-9e4deb4765b6"
      },
      "outputs": [
        {
          "output_type": "execute_result",
          "data": {
            "text/plain": [
              "False"
            ]
          },
          "metadata": {},
          "execution_count": 13
        }
      ],
      "source": [
        "greeting = \"Hello World!\"\n",
        "'h' in greeting"
      ]
    },
    {
      "cell_type": "code",
      "execution_count": null,
      "metadata": {
        "id": "8QOXh9nDGBmN"
      },
      "outputs": [],
      "source": [
        "# Try this out yourself. What happens if you use a lowercase h instead? "
      ]
    },
    {
      "cell_type": "markdown",
      "metadata": {
        "id": "jAtD1KccGBmN"
      },
      "source": [
        "### Writing Conditional Statements\n",
        "\n",
        "In order to write useful programs, we often need the ability to check conditions and change the behavior of the program accordingly. Conditional statements give us this ability. The simplest form is the `if` statement:"
      ]
    },
    {
      "cell_type": "code",
      "execution_count": null,
      "metadata": {
        "id": "6ZMSNQbMGBmN",
        "colab": {
          "base_uri": "https://localhost:8080/"
        },
        "outputId": "bba3bf29-1d8a-48a0-9de3-83dc9eac13b3"
      },
      "outputs": [
        {
          "output_type": "stream",
          "name": "stdout",
          "text": [
            "x is positive\n"
          ]
        }
      ],
      "source": [
        "# What do you think would happen if you changed x to a negative number? Give this a try!\n",
        "x = 3\n",
        "if x > 0 :\n",
        "    print('x is positive')"
      ]
    },
    {
      "cell_type": "markdown",
      "metadata": {
        "id": "a3xtSFUzGBmN"
      },
      "source": [
        "If the condition is true, then the indented statement gets executed. If the condition is false, the indented statement is skipped."
      ]
    },
    {
      "cell_type": "markdown",
      "metadata": {
        "id": "DGJpGj6sGBmO"
      },
      "source": [
        "### Structuring conditional statements\n",
        "\n",
        "Conditional statements consist of a **header** that ends with the colon character (```:```) followed by an indented block, called the **body**. \n",
        "\n",
        "There is no limit on the number of statements that can appear in the body, but there must be at least one. \n",
        "\n",
        "Code blocks can contain other blocks forming a hierarchical structure. In such a case, the second block is indented an additional degree. Any given block ends when the number of indentations in the current line is less than the number that started the block. \n",
        "\n",
        "Since the level of indentation describes which code block will be executed, improper indentations will make your code fail. When using indentations to create code blocks, look carefully to make sure you are working in the code block you intend. Each indentation for a code block is created by pressing the tab key. "
      ]
    },
    {
      "cell_type": "markdown",
      "metadata": {
        "id": "Kynl9i1PGBmO"
      },
      "source": [
        "## Types of Conditional Statements\n",
        "\n",
        "We will be focusing on `if` statements, but there are other kinds of conditional statements available in Python, and we will briefly introduce two others: `else` and `elif`.\n",
        "\n",
        "|Statement|Means|Condition for execution|\n",
        "|---|---|---|\n",
        "|`if`|if|if the condition is fulfilled|\n",
        "|`elif`|else if|if no previous conditions were met *and* this condition is met|\n",
        "|`else`|else|if no condition is met (no condition is supplied for an `else` statement)|\n",
        "\n",
        "Let's take a look at each of these."
      ]
    },
    {
      "cell_type": "markdown",
      "metadata": {
        "id": "IoIANn3JGBmO"
      },
      "source": [
        "### `if` Statements\n",
        "\n",
        "An `if` statement begins with an expression that evaluates to **True** or **False**.\n",
        "\n",
        "* if **True**, then perform this action\n",
        "* if **False**, skip over this action\n",
        "\n",
        "In practice, the form looks like this:\n",
        "\n",
        "`if this is True:` <br />\n",
        "&nbsp; &nbsp; &nbsp; &nbsp; `perform this action`\n",
        "\n",
        "Let's put an `if` statement into practice with a very simple program that asks the user how their day is going and then responds. \n",
        "\n",
        "Our program will use a single `if` statement. If the user types \"Yes\" or \"yes\", then our program will send a response."
      ]
    },
    {
      "cell_type": "code",
      "execution_count": null,
      "metadata": {
        "id": "aQvb7XJGGBmO"
      },
      "outputs": [],
      "source": [
        "# A program that responds to a user having a good day\n",
        "having_good_day = input('Are you having a good day? ') # Define a variable having_good_day to hold the user's input in a string\n",
        "\n",
        "if having_good_day == 'Yes' or having_good_day == 'yes':  # If the user has input the string 'Yes' or 'yes'\n",
        "    print('Glad to hear your day is going well!') # Print: Glad to hear your day is going well!"
      ]
    },
    {
      "cell_type": "markdown",
      "metadata": {
        "id": "RnpTpCm2GBmP"
      },
      "source": [
        "Our program works fairly well so long as the user inputs 'Yes' or 'yes'. If they type 'no' or 'sort of' or something else, it simply ends. If we want to have our program respond no matter what input it receives, we can use an `else` statement."
      ]
    },
    {
      "cell_type": "markdown",
      "metadata": {
        "id": "qRylcf0wGBmP"
      },
      "source": [
        "### `else` Statements\n",
        "\n",
        "An `else` statement *does not require a condition* to evaluate to **True** or **False**. It simply executes when none of the previous conditions are met. The form looks like this:\n",
        "\n",
        "`else:` <br />\n",
        "&nbsp; &nbsp; &nbsp; &nbsp; `perform this action`\n"
      ]
    },
    {
      "cell_type": "code",
      "execution_count": null,
      "metadata": {
        "id": "tWANO8YUGBmP"
      },
      "outputs": [],
      "source": [
        "# A program that responds to whether the user is having a good or bad day\n",
        "having_good_day = input('Are you having a good day? ') # Define a variable having_good_day to hold the user's input\n",
        "\n",
        "if having_good_day == 'Yes' or having_good_day == 'yes': \n",
        "    print('Glad to hear your day is going well!')\n",
        "else: \n",
        "    print('Maybe tomorrow will be a good day!')"
      ]
    },
    {
      "cell_type": "markdown",
      "metadata": {
        "id": "s6vHBOLTGBmP"
      },
      "source": [
        "Our new program is more robust because the `else` statement gives the user a response if they do not respond \"Yes\" or \"yes\". However, that response is not very precise. The user will get the same response whether they type \"no\" or \"potato\". \n",
        "\n",
        "What if we wanted to add a specific option for when a user says \"No\"? Or for when a user inputs something besides \"Yes\" or \"No\"? We could use a series of `elif` statements."
      ]
    },
    {
      "cell_type": "markdown",
      "metadata": {
        "id": "wECykKPtGBmQ"
      },
      "source": [
        "### `elif` Statements\n",
        "\n",
        "An `elif` statement, short for \"else if,\" allows us to create a list of possible conditions where one (and only one) action will be executed. `elif` statements come after an initial `if` statement and before an `else` statement:\n",
        "\n",
        "`if condition A is True:` <br />\n",
        "&nbsp; &nbsp; &nbsp; &nbsp; `perform action A` <br />\n",
        "`elif condition B is True:` <br />\n",
        "&nbsp; &nbsp; &nbsp; &nbsp; `perform action B` <br />\n",
        "`elif condition C is True:` <br />\n",
        "&nbsp; &nbsp; &nbsp; &nbsp; `perform action C` <br />\n",
        "`elif condition D is True:` <br />\n",
        "&nbsp; &nbsp; &nbsp; &nbsp; `perform action D` <br />\n",
        "`else:` <br />\n",
        "&nbsp; &nbsp; &nbsp; &nbsp;`perform action E`\n",
        "\n",
        "There is no limit on the number of `elif` statements. If there is an `else` clause, it has to be at the end, but there doesn’t have to be one.\n",
        "\n",
        "For example, we could add an `elif` statement to our program so it responds to both \"Yes\" and \"No\" with unique answers. We could then add an `else` statement that responds to any user input that is not \"Yes\" or \"No\"."
      ]
    },
    {
      "cell_type": "code",
      "execution_count": null,
      "metadata": {
        "id": "n_9m4jxcGBmQ"
      },
      "outputs": [],
      "source": [
        "# A program that responds to whether the user is having a good or bad day\n",
        "having_good_day = input('Are you having a good day? ') # Define a variable having_good_day to hold the user's input\n",
        "\n",
        "# If the user has input the string 'Yes' or 'yes'\n",
        "if having_good_day == 'Yes' or having_good_day == 'yes': \n",
        "    print('Glad to hear your day is going well!') \n",
        "\n",
        "# An elif statement for \"no\" and \"No\" responses\n",
        "elif having_good_day == 'No' or having_good_day == 'no':\n",
        "    print(\"That's too bad! Maybe tomorrow will be better.\") # Note that we can use a single quote in our string because it begins and ends with double quotes\n",
        "\n",
        "# An else statement that catches if the answer is not 'yes' or 'no'\n",
        "else: # Execute this if none of the other branches executes\n",
        "    print('Sorry, I only understand \"Yes\" or \"No\"') # Note that we can use double quotes in our string because it begins and ends with single quotes"
      ]
    },
    {
      "cell_type": "markdown",
      "metadata": {
        "id": "cJMfIMgDGBmQ"
      },
      "source": [
        "#### The difference between`elif` and `if`\n",
        "\n",
        "As soon as an `elif` condition is met, all the other `elif` statements below are skipped over. This means that one (and only one) conditional statement is executed when using `elif` statements. The fact that only one `elif` statement is executed is important because it may be possible for multiple conditional statements to evaluate to **True**. A series of `elif` statements evaluates from top-to-bottom, only executing the first `elif` statement whose condition evaluates to **True**. The rest of the `elif` statements are skipped over (whether they are **True** or **False**).\n",
        "\n",
        "In practice, a set of mutually exclusive `if` statements will result in the same actions as an `if` statement followed by `elif` statements. There are a few good reasons, however, to use `elif` statements:\n",
        "\n",
        "1. A series of `elif` statements helps someone reading your code understand that a single flow control choice is being made.\n",
        "2. Using `elif` statements will make your program run faster since other conditional statements are skipped after the first evaluates to **True**. Otherwise, every `if` statement has to be evaluated before the program moves to the next step.\n",
        "3. Writing a mutually exclusive set of `if` statements can be very complex."
      ]
    },
    {
      "cell_type": "markdown",
      "metadata": {
        "id": "-8-sNYu3GBmQ"
      },
      "source": [
        "That's it for conditional execution! We'll be focusing on `if` statements for this class, but it's useful to know about `elif` and `else`. In our next session, we'll talk about some more complex data structures. "
      ]
    },
    {
      "cell_type": "markdown",
      "metadata": {
        "id": "fIGz6nnOGBmQ"
      },
      "source": [
        "# Practice Exercises"
      ]
    },
    {
      "cell_type": "markdown",
      "metadata": {
        "id": "uL6l0-3jGBmR"
      },
      "source": [
        "First, read back through this whole notebook and try out all of the quick exercises. Make sure that you understand what is happening with all of these—if you have questions, come to office hours, ask your TA, or bring them up in the next session. \n",
        "\n",
        "As you're learning code, it's important to try varying different things to see how your results change. The quick exercises will prompt you to test some variations, but you should also be experimenting on your own. Make a change, then think about how you anticipate it will impact your results, then see what happens. "
      ]
    },
    {
      "cell_type": "markdown",
      "metadata": {
        "id": "KByX5l8hGBmR"
      },
      "source": [
        "Here are a few exercises to give you some more practice with these concepts. There is a solution key at the end of this notebook, but please don't look ahead until you have completed the exercises."
      ]
    },
    {
      "cell_type": "markdown",
      "metadata": {
        "id": "AHkxjqxmGBmR"
      },
      "source": [
        "**Exercise one**"
      ]
    },
    {
      "cell_type": "markdown",
      "metadata": {
        "id": "wrSezVODGBmR"
      },
      "source": [
        "For each of the code blocks below, write your prediction of what the output will be when you run the code. Then, try running each code cell to see if your prediction is correct. \n",
        "\n",
        "Remember that you can edit a markdown cell by double clicking in it."
      ]
    },
    {
      "cell_type": "markdown",
      "metadata": {
        "id": "9PVARl6UGBmR"
      },
      "source": [
        "Example one: WRITE YOUR PREDICTION HERE"
      ]
    },
    {
      "cell_type": "code",
      "execution_count": null,
      "metadata": {
        "id": "gYRvmAHjGBmR"
      },
      "outputs": [],
      "source": [
        "2.0 == 4/2"
      ]
    },
    {
      "cell_type": "markdown",
      "metadata": {
        "id": "hROqyBZAGBmS"
      },
      "source": [
        "Example two: WRITE YOUR PREDICTION HERE"
      ]
    },
    {
      "cell_type": "code",
      "execution_count": null,
      "metadata": {
        "id": "ekxh1dN-GBmS"
      },
      "outputs": [],
      "source": [
        "3 == 27/9 and 4.0 == \"4.0\""
      ]
    },
    {
      "cell_type": "markdown",
      "metadata": {
        "id": "CDOPg_8QGBmS"
      },
      "source": [
        "Example three: WRITE YOUR PREDICTION HERE"
      ]
    },
    {
      "cell_type": "code",
      "execution_count": null,
      "metadata": {
        "id": "Rb2gcEa_GBmS"
      },
      "outputs": [],
      "source": [
        "3 == 27/9 or 4 == \"4\""
      ]
    },
    {
      "cell_type": "markdown",
      "metadata": {
        "id": "H4mgb5FyGBmS"
      },
      "source": [
        "**Exercise two**"
      ]
    },
    {
      "cell_type": "markdown",
      "metadata": {
        "id": "-U1lBYZBGBmS"
      },
      "source": [
        "Initialize two variables, one called `hours_worked` with a value of 20 and another called `pay_rate` with a value of 18.5. Then, create a third variable called `weekly_pay` whose value is the outcome when you multiply the first two variables. \n",
        "\n",
        "Or, to put this another way, multiply `hours_worked` and `weekly_pay`, and then assign the output of that expression to the variable `weekly_pay`. \n",
        "\n",
        "Then, print `weekly_pay`."
      ]
    },
    {
      "cell_type": "code",
      "execution_count": null,
      "metadata": {
        "id": "SETeKyJBGBmT"
      },
      "outputs": [],
      "source": [
        "# Fill in your code here\n"
      ]
    },
    {
      "cell_type": "markdown",
      "metadata": {
        "id": "J29hUd7uGBmT"
      },
      "source": [
        "Now, modify your code to include conditional statements that account for two possible situations:\n",
        "* If the `hours_worked` variable is over 40, multiply `weekly_pay` by `pay_rate` by 1.5 to get the `weekly_pay` variable with overtime.\n",
        "* Otherwise keep the value of the `weekly_pay` variable as just the `hours_worked` multiplied by the `pay_rate`.\n",
        "\n",
        "Test your code with hours worked that are both above and below 40 (remember that you can overwrite a variable with a new value by rerunning its assignment statement). You can assume in your code that `hours_worked` and `pay_rate` will always be numeric variables."
      ]
    },
    {
      "cell_type": "code",
      "execution_count": null,
      "metadata": {
        "id": "UBQygdVKGBmT"
      },
      "outputs": [],
      "source": [
        "# Fill in your code here\n"
      ]
    },
    {
      "cell_type": "markdown",
      "metadata": {
        "id": "waT21m12GBmT"
      },
      "source": [
        "**Exercise three**\n",
        "\n",
        "Using your knowledge of flow control statements, write a program that asks a user for their age, then prints out a response depending on whether they are old enough to drive. Don't worry about handling input other than integers—just assume that the user will provide a number. The solution below will assume that the driving age is 16."
      ]
    },
    {
      "cell_type": "code",
      "execution_count": null,
      "metadata": {
        "id": "nZem2FSOGBmT"
      },
      "outputs": [],
      "source": [
        "# We'll provide you with the first step, code that will ask the user for their age and store it in a variable `user_age`\n",
        "user_age = int(input(\"What is your age? \"))\n",
        "# Now, use if and elif to check whether the user is driving age.\n",
        "# If the user is driving age, print out \"you are old enough to drive.\"\n",
        "# If the user is not driving age, print out \"you are not old enough to drive.\""
      ]
    },
    {
      "cell_type": "markdown",
      "metadata": {
        "id": "cyFhbRO2GBmT"
      },
      "source": [
        "# Solutions\n",
        "\n",
        "Here are some solutions for the exercises in this notebook. There are many different ways to approach coding, so you might have done something different. As long as the program runs correctly and you understand the concepts at stake, you're on the right track. You can make your code more efficient as you keep learning."
      ]
    },
    {
      "cell_type": "markdown",
      "metadata": {
        "id": "tGU2QElBGBmU"
      },
      "source": [
        "**Exercise One**: Run the code to see if your predictions were correct. "
      ]
    },
    {
      "cell_type": "code",
      "execution_count": null,
      "metadata": {
        "id": "6ktSPcmoGBmU"
      },
      "outputs": [],
      "source": [
        "# Exercise Two, Part one, \n",
        "hours_worked = 20\n",
        "pay_rate= 18\n",
        "weekly_pay = hours_worked * pay_rate\n",
        "print(weekly_pay)"
      ]
    },
    {
      "cell_type": "code",
      "execution_count": null,
      "metadata": {
        "id": "v2QothXgGBmU"
      },
      "outputs": [],
      "source": [
        "# Exercise Two, Part two (Original solution, when Sarah was forgetting how overtime works)\n",
        "hours_worked = 42\n",
        "pay_rate= 18\n",
        "if hours_worked > 40:\n",
        "    weekly_pay = hours_worked * pay_rate * 1.5\n",
        "else:\n",
        "    weekly_pay = hours_worked * pay_rate\n",
        "print(weekly_pay)"
      ]
    },
    {
      "cell_type": "code",
      "source": [
        "# Exercise Two, Part two (Actual solution based on how overtime is calculated in the U.S.)\n",
        "hours_worked = 41\n",
        "pay_rate = 18\n",
        "if hours_worked <= 40:\n",
        "    weekly_pay = hours_worked * pay_rate\n",
        "else:\n",
        "    overtime_pay = (hours_worked-40) * pay_rate * 1.5\n",
        "    regular_pay = 40 * pay_rate\n",
        "    weekly_pay = regular_pay + overtime_pay\n",
        "print(weekly_pay)"
      ],
      "metadata": {
        "id": "k9pFigDJdRSL"
      },
      "execution_count": null,
      "outputs": []
    },
    {
      "cell_type": "code",
      "execution_count": null,
      "metadata": {
        "id": "Q4QqE80xGBmU"
      },
      "outputs": [],
      "source": [
        "# Exercise Three\n",
        "# Ask the user for their age and store it in a variable `user_age`\n",
        "user_age = int(input(\"What is your age? \"))\n",
        "\n",
        "if user_age >= 16: # Checks to see if user_age is greater than or equal to 16\n",
        "    print(\"you are old enough to drive\")\n",
        "elif user_age < 16: # If user_age is less than 16, prints \"you are not old enough to drive\"\n",
        "    print(\"you are not old enough to drive\")"
      ]
    }
  ],
  "metadata": {
    "kernelspec": {
      "display_name": "Python 3",
      "language": "python",
      "name": "python3"
    },
    "language_info": {
      "codemirror_mode": {
        "name": "ipython",
        "version": 3
      },
      "file_extension": ".py",
      "mimetype": "text/x-python",
      "name": "python",
      "nbconvert_exporter": "python",
      "pygments_lexer": "ipython3",
      "version": "3.8.8"
    },
    "toc": {
      "base_numbering": 1,
      "nav_menu": {},
      "number_sections": true,
      "sideBar": true,
      "skip_h1_title": true,
      "title_cell": "Table of Contents",
      "title_sidebar": "Contents",
      "toc_cell": false,
      "toc_position": {},
      "toc_section_display": true,
      "toc_window_display": false
    },
    "colab": {
      "name": "2_Conditionals.ipynb",
      "provenance": [],
      "collapsed_sections": [
        "DGJpGj6sGBmO"
      ]
    }
  },
  "nbformat": 4,
  "nbformat_minor": 0
}