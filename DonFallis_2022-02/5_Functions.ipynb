{
  "cells": [
    {
      "cell_type": "markdown",
      "metadata": {
        "id": "Xdss6QGeIAXx"
      },
      "source": [
        "<img align=\"left\" src=\"https://ithaka-labs.s3.amazonaws.com/static-files/images/tdm/tdmdocs/CC_BY.png\"><br />\n",
        "\n",
        "Adapted by Sarah Connell from a notebook created by [Nathan Kelber](http://nkelber.com) and Ted Lawless for [JSTOR Labs](https://labs.jstor.org/) under [Creative Commons CC BY License](https://creativecommons.org/licenses/by/4.0/). See [here](https://ithaka.github.io/tdm-notebooks/book/all-notebooks.html) for the original version. Some contents were adapted from teaching notebooks created by Laura Nelson, University of British Columbia, and from [Python for Everybody](https://www.py4e.com/). Warm thanks to Kate Kryder, Data Analysis & Visualization Specialist at Northeastern University, for helping to develop these notebooks.<br />\n",
        "___"
      ]
    },
    {
      "cell_type": "markdown",
      "metadata": {
        "id": "JP2MEu7-IAX0"
      },
      "source": [
        "## Functions\n",
        "\n",
        "We have used several Python [functions](https://docs.constellate.org/key-terms/#function) already, including `print()`, `input()`, and `type()`. As a reminder, functions are structured such that the function name is followed by a set of parentheses `()`. Inside the parentheses are any [arguments](https://docs.constellate.org/key-terms/#argument) that the functions operate on. We say that arguments are **passed** to the function when it is run. \n",
        "\n",
        "Depending on the function (and your goals for using it), a function may accept no arguments, a single argument, or many arguments. \n",
        "\n",
        "When we introduced functions, we noted that there are three kinds:\n",
        "* Native functions built into Python\n",
        "* Functions others have written that you can import\n",
        "* Functions you write yourself\n",
        "\n",
        "We've been using the built-in functions for several lessons. Now, let's talk about importing others' functions and writing them ourselves. \n",
        "\n",
        "### Libraries and Modules\n",
        "\n",
        "While Python comes with many functions, there are thousands more that others have written. Adding them all to Python would create mass confusion, since many people could use the same name for functions that do different things. The solution then is that functions are stored in [modules](https://docs.constellate.org/key-terms/#module) that can be **imported** for use. A module is a Python file (extension \".py\") that contains the definitions for the functions written in Python. These modules can then be collected into even larger groups called [packages](https://docs.constellate.org/key-terms/#package) and [libraries](https://docs.constellate.org/key-terms/#library). Depending on how many functions you need for the program you are writing, you may import a single module, a package of modules, or a whole library.\n",
        "\n",
        "The general form of importing a module is:\n",
        "`import module_name`\n",
        "\n",
        "For example, the code below imports the `time` module and uses the `sleep()` function to wait 5 seconds.\n",
        "\n",
        "To access one of the functions in the module, you have to specify the name of the module and the name of the function, separated by a dot (also known as a period). This format is called dot notation."
      ]
    },
    {
      "cell_type": "code",
      "execution_count": null,
      "metadata": {
        "id": "BumxXO6LIAX1"
      },
      "outputs": [],
      "source": [
        "# A program that waits five seconds then prints \"Done\"\n",
        "print('Waiting 5 seconds...')\n",
        "import time # We import the `time` module\n",
        "time.sleep(5) # We run the sleep() function from the time module using `time.sleep()`\n",
        "print('Done')"
      ]
    },
    {
      "cell_type": "markdown",
      "metadata": {
        "id": "_1l0_AqcIAX2"
      },
      "source": [
        "We can also just import the `sleep()` function without importing the whole `time` module."
      ]
    },
    {
      "cell_type": "code",
      "execution_count": null,
      "metadata": {
        "id": "Unt5PCBLIAX3"
      },
      "outputs": [],
      "source": [
        "# A program that waits five seconds then prints \"Done\"\n",
        "print('Waiting 5 seconds...')\n",
        "from time import sleep # We import just the sleep() function from the time module\n",
        "sleep(5) # Notice that we just call the sleep() function, not time.sleep\n",
        "print('Done')"
      ]
    },
    {
      "cell_type": "markdown",
      "metadata": {
        "id": "sSzSOCjaIAX3"
      },
      "source": [
        "If the code above looks familiar, that's because we've already done something similar when we imported `pprint()` to do \"pretty printing\" of our dictionaries.\n",
        "\n",
        "Python has many useful modules, packages, and libraries that you can import. In this class, we will be working with the `math` module, which\n",
        "provides most of the familiar mathematical functions. Before we can use the module, we have to import it:"
      ]
    },
    {
      "cell_type": "code",
      "execution_count": null,
      "metadata": {
        "id": "2lSrSA80IAX4"
      },
      "outputs": [],
      "source": [
        "import math"
      ]
    },
    {
      "cell_type": "markdown",
      "metadata": {
        "id": "bViFPX6HIAX4"
      },
      "source": [
        "Now that we have imported `math`, we can use it following the same notational format. For example, the `sqrt` function from the `math` module will calculate the square root of its argument: "
      ]
    },
    {
      "cell_type": "code",
      "execution_count": null,
      "metadata": {
        "id": "TofKv5j_IAX5"
      },
      "outputs": [],
      "source": [
        "math.sqrt(16)"
      ]
    },
    {
      "cell_type": "markdown",
      "source": [
        "Another function in the `math` module is `ceil()` which rounds a number up to its nearest integer. In the code block below, test out `ceil()` with a number of your choice."
      ],
      "metadata": {
        "id": "gKr3dBHP8ffa"
      }
    },
    {
      "cell_type": "code",
      "source": [
        "# Use the `ceil()` function from the `math` module here\n"
      ],
      "metadata": {
        "id": "lk2wBhsw8Sn-"
      },
      "execution_count": null,
      "outputs": []
    },
    {
      "cell_type": "markdown",
      "metadata": {
        "id": "xSYgnEj1IAX5"
      },
      "source": [
        "You can find more about the functions in the `math` module [here](https://docs.python.org/3/library/math.html)."
      ]
    },
    {
      "cell_type": "markdown",
      "metadata": {
        "id": "yH26sH0YIAX5"
      },
      "source": [
        "## Writing a Function\n",
        "\n",
        "In the above examples, we **called** a function that was already written. To call our own functions, we need to define our function first with a **function definition statement** followed by a [code block](https://docs.constellate.org/key-terms/#code-block):\n",
        "\n",
        "`def my_function():` <br />\n",
        "&nbsp; &nbsp; &nbsp; &nbsp;`do this task`\n",
        "    \n",
        "\n",
        "After the function is defined, we can **call** on it whenever we need by simply executing the function like so:\n",
        "\n",
        "`my_function()`\n",
        "\n",
        "Below is an example function definition:"
      ]
    },
    {
      "cell_type": "code",
      "execution_count": null,
      "metadata": {
        "id": "iaE39wetIAX6"
      },
      "outputs": [],
      "source": [
        "# Creating a simple function that prints lyrics\n",
        "# Note that this just defines the function; we haven't run the function yet\n",
        "# Note also that this is the obligatory Monty Python reference for our Python tutorial\n",
        "def print_lyrics():\n",
        "    print(\"I'm a lumberjack, and I'm okay.\")\n",
        "    print('I sleep all night and I work all day.')"
      ]
    },
    {
      "cell_type": "markdown",
      "metadata": {
        "id": "q0c6bopsIAX6"
      },
      "source": [
        "`def` is a keyword that indicates that this is a function definition. The name of the function is `print_lyrics`. The rules for function names are the same as for variable names: letters, numbers and some punctuation marks are legal, but the first character can't be a number. You can't use a keyword as the name of a function, and you should avoid having a variable and a function with the same name.\n",
        "\n",
        "The empty parentheses after the name indicate that this function doesn't take any arguments. Later we will build functions that take arguments as their inputs.\n",
        "\n",
        "The first line of the function definition is called the **header**; the rest is called the **body**. The header has to end with a colon and the body has to be indented. The body can contain any number of statements.\n",
        "\n",
        "The syntax for calling the new function is the same as for built-in functions:"
      ]
    },
    {
      "cell_type": "code",
      "execution_count": null,
      "metadata": {
        "id": "fZI_geCeIAX6"
      },
      "outputs": [],
      "source": [
        "# Running our new function\n",
        "print_lyrics()"
      ]
    },
    {
      "cell_type": "markdown",
      "metadata": {
        "id": "UMb8Q9IdIAX7"
      },
      "source": [
        "Once you have defined a function, you can use it inside another function. For example, to repeat the previous refrain, we could write a function called `repeat_lyrics`:"
      ]
    },
    {
      "cell_type": "code",
      "execution_count": null,
      "metadata": {
        "id": "uuJiJ23kIAX7"
      },
      "outputs": [],
      "source": [
        "# Defining a function that uses our `print_lyrics()` function\n",
        "def repeat_lyrics():\n",
        "    print_lyrics()\n",
        "    print_lyrics()"
      ]
    },
    {
      "cell_type": "code",
      "execution_count": null,
      "metadata": {
        "id": "cjzE1TqfIAX7"
      },
      "outputs": [],
      "source": [
        "# Running the `repeat_lyrics` function\n",
        "repeat_lyrics()"
      ]
    },
    {
      "cell_type": "markdown",
      "metadata": {
        "id": "p8Go5sqiIAX8"
      },
      "source": [
        "## Parameters and arguments\n",
        "As we have already seen, some functions require arguments.\n",
        "\n",
        "When we write a function definition, we can define a **parameter** to work with the function. We use the word \"parameter\" to describe the variable in parentheses within a function definition:\n",
        "\n",
        "`def my_function(input_variable):` <br />\n",
        "&nbsp; &nbsp; &nbsp; &nbsp;`do this task`\n",
        "\n",
        "In the pseudo-code above, `input_variable` is a parameter because it is being used within the context of a function *definition*. When we run our function, the actual variable or value we pass to the function is called an **argument**.\n",
        "\n",
        "You might see people using the terms \"parameter\" and \"argument\" interchangeably, but there is a distinction. A **parameter** is the variable used within the function definition, and an **argument** is the value or variable that is sent to the function when it is actually run. \n",
        "\n",
        "Here is an example of a user-defined function that takes an argument:"
      ]
    },
    {
      "cell_type": "code",
      "execution_count": null,
      "metadata": {
        "id": "rY-hHlz5IAX8"
      },
      "outputs": [],
      "source": [
        "def phrase_length(p):   \n",
        "    print(\"Phrase:\",p)\n",
        "    print(\"Length:\",len(p))"
      ]
    },
    {
      "cell_type": "code",
      "execution_count": null,
      "metadata": {
        "id": "t6mu7TToIAX8"
      },
      "outputs": [],
      "source": [
        "phrase_length('I am a phrase')"
      ]
    },
    {
      "cell_type": "code",
      "execution_count": null,
      "metadata": {
        "id": "GRzhkuheIAX8"
      },
      "outputs": [],
      "source": [
        "# In this block, try running our new function on a few different strings\n"
      ]
    },
    {
      "cell_type": "markdown",
      "metadata": {
        "id": "M2t-PF0bIAX9"
      },
      "source": [
        "This function assigns the argument to a parameter named `p`. The function will work with any value or variable that can be an argument for the `len()` function.\n",
        "\n",
        "For example, we could also first create a variable called `my_string` and then calculate its length with our new function. "
      ]
    },
    {
      "cell_type": "code",
      "execution_count": null,
      "metadata": {
        "id": "JR2rHJNHIAX9"
      },
      "outputs": [],
      "source": [
        "my_string = \"I am a string!\"\n",
        "phrase_length(my_string)"
      ]
    },
    {
      "cell_type": "markdown",
      "metadata": {
        "id": "BsB5p7zYIAX9"
      },
      "source": [
        "In the example above, we chose `p` for the name of the parameter and `phrase_length` for the name of the function, but that was a choice that we made. This code would do the same thing. "
      ]
    },
    {
      "cell_type": "code",
      "execution_count": null,
      "metadata": {
        "id": "znSDsRcFIAX9"
      },
      "outputs": [],
      "source": [
        "def bicycle_awesomeness(bicycle):   \n",
        "    print(\"Phrase:\",bicycle)\n",
        "    print(\"Length:\",len(bicycle))\n",
        "bicycle_awesomeness('I am a phrase')"
      ]
    },
    {
      "cell_type": "markdown",
      "metadata": {
        "id": "-srxrJzSIAX-"
      },
      "source": [
        "Just remember to use good judgment and think about how your future self, as well as others, will need to interact with your code when you are naming things."
      ]
    },
    {
      "cell_type": "markdown",
      "metadata": {
        "id": "jz5okdiKIAX-"
      },
      "source": [
        "### Local and Global Scope\n",
        "\n",
        "We have seen that functions make maintaining code easier by avoiding duplication. One of the most dangerous areas for duplication is variable names. As programming projects become larger, the possibility that a variable will be re-used goes up. This can cause weird errors in our programs that are hard to track down. We can alleviate the problem of duplicate variable names through the concepts of [local scope](https://docs.constellate.org/key-terms/#local-scope) and [global scope](https://docs.constellate.org/key-terms/#global-scope).\n",
        "\n",
        "We use the phrase \"local scope\" to describe what happens within a function. The local scope of a function may contain [local variables](https://docs.constellate.org/key-terms/#local-variable), but once that function has completed, the local variables and their contents are erased.\n",
        "\n",
        "On the other hand, we can also create [global variables](https://docs.constellate.org/key-terms/#global-variable) that persist at the top-level of the program *and* within the local scope of a function.\n",
        "\n",
        "**To reiterate:** global variables are those created outside of functions; they can be used both within functions and outside of them. Local variables exist only within the context of their functions. "
      ]
    },
    {
      "cell_type": "markdown",
      "metadata": {
        "id": "StruIqnSIAX-"
      },
      "source": [
        "In fact, you're already very familiar with global variables, because you've been using them throughout these lessons. \n",
        "\n",
        "That is, as you've already seen, when we initialize a variable within a code cell, we can use that variable in any code block within the notebook. For example, we defined the value of `my_string` several cells up, but we can still print it below. "
      ]
    },
    {
      "cell_type": "code",
      "execution_count": null,
      "metadata": {
        "id": "6_zbD-ioIAX-"
      },
      "outputs": [],
      "source": [
        "print(my_string)"
      ]
    },
    {
      "cell_type": "markdown",
      "metadata": {
        "id": "3CiC6ohZIAX_"
      },
      "source": [
        "However, the same is not true for the variables we use within our function definitions. For example, here is a little function that prints out how the user's day has been. "
      ]
    },
    {
      "cell_type": "code",
      "execution_count": null,
      "metadata": {
        "id": "HmCkdaEgIAX_"
      },
      "outputs": [],
      "source": [
        "def my_day():\n",
        "  day = \"fun\"\n",
        "  print(\"My day has been \" + day)\n",
        "\n",
        "my_day()"
      ]
    },
    {
      "cell_type": "markdown",
      "metadata": {
        "id": "oV0mZStaIAX_"
      },
      "source": [
        "But, what happens when we try to use `day` outside of the function?"
      ]
    },
    {
      "cell_type": "code",
      "execution_count": null,
      "metadata": {
        "id": "QLC09ZFuIAX_"
      },
      "outputs": [],
      "source": [
        "print(day)"
      ]
    },
    {
      "cell_type": "markdown",
      "metadata": {
        "id": "JxtX9XT9IAYA"
      },
      "source": [
        "It's possible to use the same variable name for both local and global scopes—this is why you need to be very careful when you are naming your variables! \n",
        "\n",
        "For example, we can create a global variable called `day` and assign it a value of \"busy\". "
      ]
    },
    {
      "cell_type": "code",
      "execution_count": null,
      "metadata": {
        "id": "UMo9GfgxIAYA"
      },
      "outputs": [],
      "source": [
        "day = \"busy\""
      ]
    },
    {
      "cell_type": "markdown",
      "metadata": {
        "id": "_Y65dHGhIAYA"
      },
      "source": [
        "Now that we've initialized this global variable, we can use it in our code. What do you think the outcome will be when you run the code block below? "
      ]
    },
    {
      "cell_type": "code",
      "execution_count": null,
      "metadata": {
        "id": "5fpFgg89IAYA"
      },
      "outputs": [],
      "source": [
        "print(\"My day has been\", day)"
      ]
    },
    {
      "cell_type": "markdown",
      "metadata": {
        "id": "TDlti4crIAYB"
      },
      "source": [
        "Creating this global variable, however, doesn't change the local variable within our function. \n",
        "\n",
        "What do you think the outcome will be when you run the code block below? Scroll up to the function definition to as a reminder of how `day` is defined within the `my_day()` function."
      ]
    },
    {
      "cell_type": "code",
      "execution_count": null,
      "metadata": {
        "id": "H4J0Gs8sIAYB"
      },
      "outputs": [],
      "source": [
        "my_day()"
      ]
    },
    {
      "cell_type": "markdown",
      "metadata": {
        "id": "fcN9o-ZdIAYB"
      },
      "source": [
        "This might seem a bit confusing: the important thing to take home here is that variables you create outside of functions will be **global** and will have the same values throughout your notebook. Variables created inside of functions are **local** and cannot be used outside of those functions. It is possible to make a local variable into a global one, but that is out of scope for this lesson. "
      ]
    },
    {
      "cell_type": "markdown",
      "metadata": {
        "id": "sz1Eg5WfIAYB"
      },
      "source": [
        "### Function Return Values\n",
        "\n",
        "Whether or not a function takes an argument, it will return a value. If we do not specify that return value in our function definition, it is automatically set to `None`, a special value like the Boolean `True` and `False` that simply means null or nothing. `None` is not the same thing as, say, the integer `0`. We saw `None` in the last lesson when we used it to find the largest value in sequence.\n",
        "\n",
        "We've already seen that some functions will return values that you can do things with, while others might perform some kind of an action but do not produce any result that you can use in other code. For example, the `print()` function just prints its argument. Let's see what happens if we try to initialize a variable as the output of the `print()` function:\n"
      ]
    },
    {
      "cell_type": "code",
      "source": [
        "# Initializing a variable by assigning its value to the output from the `print()` function\n",
        "a_variable = print(\"Some string\")"
      ],
      "metadata": {
        "id": "Fb5upOltDL8D"
      },
      "execution_count": null,
      "outputs": []
    },
    {
      "cell_type": "code",
      "source": [
        "# See what happens when we try to print the new variable\n",
        "print(a_variable) "
      ],
      "metadata": {
        "id": "O6hhqBEHDVac"
      },
      "execution_count": null,
      "outputs": []
    },
    {
      "cell_type": "markdown",
      "source": [
        "To return a result from a function, we use what's called a `return` statement in our function definition. \n",
        "\n",
        "For example, we could make a very simple function called `add_two` that adds two numbers together and returns a result: "
      ],
      "metadata": {
        "id": "lMLuTPBGDnSw"
      }
    },
    {
      "cell_type": "code",
      "execution_count": null,
      "metadata": {
        "id": "um2GTNgiIAYB"
      },
      "outputs": [],
      "source": [
        "# A function for adding two numbers\n",
        "def add_two(a, b):\n",
        "    added = a + b\n",
        "    return added "
      ]
    },
    {
      "cell_type": "code",
      "execution_count": null,
      "metadata": {
        "id": "ox4AdaL_IAYB"
      },
      "outputs": [],
      "source": [
        "# Using our new function\n",
        "add_two(2,7)"
      ]
    },
    {
      "cell_type": "markdown",
      "metadata": {
        "id": "cpAkDbJHIAYB"
      },
      "source": [
        "Note that this function as defined expects two arguments. What do you think will happen if we have only one argument? What about three arguments? Test this out in the code block below:"
      ]
    },
    {
      "cell_type": "code",
      "execution_count": null,
      "metadata": {
        "id": "Qp1QIVS_IAYB"
      },
      "outputs": [],
      "source": [
        "# Try using our add_two function with one or three arguments\n"
      ]
    },
    {
      "cell_type": "markdown",
      "source": [
        "Contrast the result from running `add_two()` with what we just saw with `print()`:"
      ],
      "metadata": {
        "id": "j79rD47VYNBE"
      }
    },
    {
      "cell_type": "code",
      "source": [
        "# Let's try initializing a variable by assigning its value to the output from the `add_two()` function\n",
        "added_variable = add_two(2,7)"
      ],
      "metadata": {
        "id": "G0--k7i-X4IZ"
      },
      "execution_count": null,
      "outputs": []
    },
    {
      "cell_type": "code",
      "source": [
        "# See what happens when we try to print the new variable \n",
        "print(added_variable)"
      ],
      "metadata": {
        "id": "lN0uTi6QYBUS"
      },
      "execution_count": null,
      "outputs": []
    },
    {
      "cell_type": "markdown",
      "metadata": {
        "id": "Qqk9tCN7IAYC"
      },
      "source": [
        "Make note of how `return` is being used in the examples below, so you can get a better sense of what it does and how it can be applied in writing function definitions. "
      ]
    },
    {
      "cell_type": "markdown",
      "metadata": {
        "id": "_p8YNEJkIAYC"
      },
      "source": [
        "## Using functions with dictionaries and control statements"
      ]
    },
    {
      "cell_type": "markdown",
      "metadata": {
        "id": "l2fQqsF1IAYC"
      },
      "source": [
        "**Notes**: Make sure you run all the cells in this section in order! The function definitions change throughout this part of the notebook, so you will get an error if there is a mismatch between the version of a function you're using and the sample code for running that function. If you want to go back and try things out again, just make sure that you're paying attention to which version of the functions you're using.\n",
        "\n",
        "You might find it helpful to look back through the tutorials on dictionaries, conditional statements, and `for` loops before reading through this section.\n",
        "\n"
      ]
    },
    {
      "cell_type": "markdown",
      "metadata": {
        "id": "tPG-_hH5IAYC"
      },
      "source": [
        "Much of what we've learned about conditionals, `for` loops, tuples, and dictionaries can help us to write better functions.\n",
        "\n",
        "For example, we can use conditionals to write functions that will have different outcomes based on different inputs. This function will print out a grade, based on the value of its argument."
      ]
    },
    {
      "cell_type": "code",
      "execution_count": null,
      "metadata": {
        "id": "_iaSn4wFIAYC"
      },
      "outputs": [],
      "source": [
        "# A function for printing out grades\n",
        "def grading_bot(grade):\n",
        "    if grade >= 90:\n",
        "        return 'You got an A'\n",
        "    elif grade >= 80:\n",
        "        return 'You got a B'\n",
        "    elif grade >= 70:\n",
        "        return 'You got a C'\n",
        "    else:\n",
        "        return'Take the test again'\n"
      ]
    },
    {
      "cell_type": "code",
      "execution_count": null,
      "metadata": {
        "id": "wfnnu_m_IAYC"
      },
      "outputs": [],
      "source": [
        "# Run this, then try again with a different value as the argument\n",
        "grading_bot(90)"
      ]
    },
    {
      "cell_type": "markdown",
      "metadata": {
        "id": "NFmNF-fuIAYC"
      },
      "source": [
        "We can also write functions that use `for` loops to iterate over a set of items and perform repeated tasks. Combining `for` loops and conditional statements can be especially useful.\n",
        "\n",
        "For example, this function will iterate through our dictionary of snowfall totals in Massachusetts and print out each of the keys along with one of two different strings, depending on the values associated with each key.  "
      ]
    },
    {
      "cell_type": "code",
      "execution_count": null,
      "metadata": {
        "id": "Nb1zpLTZIAYC"
      },
      "outputs": [],
      "source": [
        "# Initializing our dictionary of snowfall totals for Massachusetts\n",
        "snowfall_mass_jan = {\"Boston\": 24.5,\n",
        "\"Brookline\": 15,\n",
        "\"Cambridge\": 14,\n",
        "\"Framingham\": 12.2,\n",
        "\"Malden\": 20,\n",
        "\"Wakefield\": 21.2,\n",
        "\"Norwood\": 19.5}\n",
        "\n",
        "# Defining a function for printing whether towns got a lot of snow or not\n",
        "def weather_report():\n",
        "    for town in snowfall_mass_jan:\n",
        "        if snowfall_mass_jan[town] >= 15:\n",
        "            print(town, \"got a lot of snow in January!\")\n",
        "        elif snowfall_mass_jan[town] < 15:\n",
        "            print (town, \"didn't get as much snow this time\")"
      ]
    },
    {
      "cell_type": "code",
      "execution_count": null,
      "metadata": {
        "id": "vFMGwFaxIAYD"
      },
      "outputs": [],
      "source": [
        "# Based on what you know about for loops, dictionaries, and if statements, what do you think the output of this function will be?\n",
        "# Run the function here to confirm your guess\n",
        "weather_report()"
      ]
    },
    {
      "cell_type": "markdown",
      "metadata": {
        "id": "cnRAio_3IAYD"
      },
      "source": [
        "This example shows how `for` loops can be used in our functions, but it's not very useful yet. As written, it will only operate on a specific dictionary. To make the function more flexible, we can rewrite it so that the dictionary at stake needs to be supplied as an argument.\n",
        "\n",
        "This example also uses more generalized variable names to help you get a sense of how the dictionary's structure is being used in the function."
      ]
    },
    {
      "cell_type": "code",
      "execution_count": null,
      "metadata": {
        "id": "I0WtJA6uIAYD"
      },
      "outputs": [],
      "source": [
        "def weather_report(dictionary):\n",
        "    for key in dictionary:\n",
        "        if dictionary[key] >= 15:\n",
        "            print(key, \"got a lot of snow in January!\")\n",
        "        elif dictionary[key] < 15:\n",
        "            print (key, \"didn't get as much snow this time\") "
      ]
    },
    {
      "cell_type": "code",
      "execution_count": null,
      "metadata": {
        "id": "NkptqEFZIAYD"
      },
      "outputs": [],
      "source": [
        "# Now, we supply the dictionary as an argument of our function\n",
        "weather_report(snowfall_mass_jan)"
      ]
    },
    {
      "cell_type": "markdown",
      "metadata": {
        "id": "g_WRATQhIAYD"
      },
      "source": [
        "Our new and improved function will work on any dictionary. For example, here are some snowfall totals from New Hampshire:"
      ]
    },
    {
      "cell_type": "code",
      "execution_count": null,
      "metadata": {
        "id": "E6xJ6AVBIAYD"
      },
      "outputs": [],
      "source": [
        "snowfall_nh_jan = {\"Dover\": 9,\n",
        "\"Epping\": 10,\n",
        "\"Exeter\": 12,\n",
        "\"Hampton\": 16,\n",
        "\"Rochester\": 10,\n",
        "\"Rye\": 13.5,\n",
        "\"Tamworth\": 3}"
      ]
    },
    {
      "cell_type": "code",
      "execution_count": null,
      "metadata": {
        "id": "cBIIuQpjIAYD"
      },
      "outputs": [],
      "source": [
        "# In this code block, run the `weather_report()` function on the new dictionary\n"
      ]
    },
    {
      "cell_type": "markdown",
      "metadata": {
        "id": "AgI3IQsNIAYE"
      },
      "source": [
        "We can also use functions to retrieve or modify information from dictionaries. \n",
        "\n",
        "For example, the function defined below will retrieve the value associated with a key from a dictionary. This function is written to require two arguments: the dictionary and a key from that dictionary. "
      ]
    },
    {
      "cell_type": "code",
      "execution_count": null,
      "metadata": {
        "id": "tkA71AebIAYE"
      },
      "outputs": [],
      "source": [
        "# Here we define our function for looking up values based on a specified dictionary and key\n",
        "def snowfall_lookup(dictionary,key):\n",
        "    if key in dictionary:\n",
        "        snowfall = dictionary[key]\n",
        "    return snowfall"
      ]
    },
    {
      "cell_type": "code",
      "execution_count": null,
      "metadata": {
        "id": "PlOQs9t4IAYE"
      },
      "outputs": [],
      "source": [
        "# Now, we can use our function by supplying any dictionary and key\n",
        "snowfall_lookup(snowfall_nh_jan,\"Hampton\")"
      ]
    },
    {
      "cell_type": "code",
      "execution_count": null,
      "metadata": {
        "id": "IdwS3CEpIAYE"
      },
      "outputs": [],
      "source": [
        "# Run the snowfall_lookup function on a key from the Massachusetts dictionary\n"
      ]
    },
    {
      "cell_type": "markdown",
      "metadata": {
        "id": "AAJYCzM2IAYE"
      },
      "source": [
        "Remember that we can use other functions within our function definitions, as we did with the `repeat_lyrics()` function at the start of this lesson. \n",
        "\n",
        "In this last example, we're defining a function called `get_totals()`, which takes a dictionary as its argument. We first set the local variable `total` to `0` and then iterate through the dictionary with a `for` loop.\n",
        "\n",
        "On each iteration, we overwrite `total` by adding its current value to the result from running the `snowfall_lookup()` function on each key in our dictionary. Because `snowfall_lookup()` retrieves the value for each key, the end result is that `total`'s value is the sum of all the values for all the keys in the dictionary. "
      ]
    },
    {
      "cell_type": "code",
      "execution_count": null,
      "metadata": {
        "id": "W_fgswWrIAYE"
      },
      "outputs": [],
      "source": [
        "# Using a function within a function\n",
        "def get_totals(dictionary):\n",
        "    total = 0 # We start by setting the total variable to 0\n",
        "    for key in dictionary:\n",
        "        total = total + snowfall_lookup(dictionary, key) #This could also be written: total += snowfall_lookup(dictionary, key)\n",
        "    return total\n",
        "\n",
        "# Run our new function on the snowfall_mass_jan dictionary\n",
        "get_totals(snowfall_mass_jan)"
      ]
    },
    {
      "cell_type": "markdown",
      "metadata": {
        "id": "F3UgwWT6IAYF"
      },
      "source": [
        "## Next steps\n",
        "\n",
        "That's it! In these lessons, you've learned the basics of Python, such as variables, functions, and expressions. We've covered how to write loops that iterate through repeated actions and how to construct conditional statements that produce different outcomes based on different inputs. We've also learned how to write our own functions and worked with data structures like dictionaries and tuples. \n",
        "\n",
        "This is a lot, but it's also just the very beginning of what is possible with Python. You'll continue learning more code in this class, and there are many resources for learning Python aimed at humanities students. For example, [Python for Everybody](https://www.py4e.com/) and the [tutorials](https://programminghistorian.org/en/lessons/?topic=python) developed by the Programming Historian project are great places to start. W3Schools also has some [tutorials](https://www.w3schools.com/python/default.asp) on Python that provide clear outlines of core concepts, with examples you can work through. \n",
        "\n",
        "If you would like to work with Python on your own computer, there are several options. Probably the easiest is to download [Ananconda Navigator](https://docs.anaconda.com/anaconda/navigator/index.html). With Anaconda, you can access several platforms for editing code—these include not just a Jupyter Notebooks environment that is similar to what we've been doing with Google Colab but also [Spyder](https://www.spyder-ide.org/), which allows you to edit Python (.py) files directly.\n",
        "\n",
        "Before you're done with this lesson, though, there are a few exercises. As always, we encourage you to read through the full lesson again and try running the suggested code activities and modifying the code samples. "
      ]
    },
    {
      "cell_type": "markdown",
      "metadata": {
        "id": "pChbnXuWIAYF"
      },
      "source": [
        "# Practice Exercises"
      ]
    },
    {
      "cell_type": "markdown",
      "metadata": {
        "id": "07PRXdjWIAYF"
      },
      "source": [
        "**Exercise One**"
      ]
    },
    {
      "cell_type": "markdown",
      "metadata": {
        "id": "xRFiOAWbIAYF"
      },
      "source": [
        "Write a simple function that multiplies two numbers and returns the result."
      ]
    },
    {
      "cell_type": "code",
      "source": [
        "# Fill in your code here\n"
      ],
      "metadata": {
        "id": "SBTPzklwyyUq"
      },
      "execution_count": null,
      "outputs": []
    },
    {
      "cell_type": "markdown",
      "metadata": {
        "id": "TzGq3vglIAYF"
      },
      "source": [
        "**Exercise Two**"
      ]
    },
    {
      "cell_type": "markdown",
      "metadata": {
        "id": "4kpHVvESIAYF"
      },
      "source": [
        "Write a function that compares two numbers and then returns whichever is larger, along with the string \"is larger.\" For example, the result if the function were run on 3 and 23.8 would be: \"23.8 is larger.\" Don't worry about handling equal values just yet.\n",
        "\n"
      ]
    },
    {
      "cell_type": "code",
      "execution_count": null,
      "metadata": {
        "id": "CuuKMx-sIAYF"
      },
      "outputs": [],
      "source": [
        "# Fill in your code here to write a function that compares two numbers\n"
      ]
    },
    {
      "cell_type": "code",
      "execution_count": null,
      "metadata": {
        "id": "Ke9nWqy4IAYF"
      },
      "outputs": [],
      "source": [
        "# Now, test your new function on several pairs of numbers\n"
      ]
    },
    {
      "cell_type": "markdown",
      "metadata": {
        "id": "VJgSIerqIAYG"
      },
      "source": [
        "Can you modify your function so that it can handle numbers that are equal? For example, the result if the function were run on 3 and 3.0 would be \"3 and 3.0 are equal.\" "
      ]
    },
    {
      "cell_type": "code",
      "execution_count": null,
      "metadata": {
        "id": "fhlEMBAIIAYG"
      },
      "outputs": [],
      "source": [
        "# Modify your function to handle equal values\n"
      ]
    },
    {
      "cell_type": "markdown",
      "metadata": {
        "id": "1S28xMMjIAYG"
      },
      "source": [
        "**Exercise Three**"
      ]
    },
    {
      "cell_type": "markdown",
      "metadata": {
        "id": "dr2cKAYCIAYG"
      },
      "source": [
        "Write a function for printing out the count of key/value pairs in a dictionary (yes, you could use `len()` for this, but we want you to practice writing `for` loops that can iterate over dictionaries). Test your new function on both the Massachusetts and New Hampshire snowfall dictionaries (`snowfall_nh_jan` and `snowfall_mass_jan`); remember that if you are starting a new session, you will need to re-initialize the dictionaries. "
      ]
    },
    {
      "cell_type": "code",
      "source": [
        "# Fill in your code here\n"
      ],
      "metadata": {
        "id": "_5qKRdzKy05q"
      },
      "execution_count": null,
      "outputs": []
    },
    {
      "cell_type": "markdown",
      "source": [
        "**Exercise Four**"
      ],
      "metadata": {
        "id": "_p_-6b9G0jtr"
      }
    },
    {
      "cell_type": "markdown",
      "source": [
        "The code below asks for you to fill in some components for a function that will print out the high and low temperatures for a set of towns. Follow the instructions to fill in the missing code. \n",
        "\n",
        "Note that this example uses the trick of adding longer comments by entering them as multiline strings, with triple quotation marks (look back to the first lesson if you want a refresher on this). "
      ],
      "metadata": {
        "id": "OSnqJllD0mRj"
      }
    },
    {
      "cell_type": "code",
      "source": [
        "\n",
        "\"\"\" \n",
        "First, add at least one key/value pair to the dictionary below. You can pick any town \n",
        "that you like, and either look up or make up the high and low temperatures. \n",
        "Just make sure to follow the format in the starter code, with a tuple containing\n",
        "two strings for the key and an integer for the value. \n",
        "\"\"\"\n",
        "# Add at least one key/value pair to this dictionary\n",
        "town_weather = {(\"Boston\",\"high\"): 52,\n",
        "                (\"Boston\",\"low\"): 34,\n",
        "                (\"Concord\",\"high\"): 52,\n",
        "                (\"Concord\",\"low\"): 25}\n",
        "\n",
        "\"\"\"\n",
        "The function defined below will simply return the first item in a tuple; we'll\n",
        "use this later on in a `for` loop to grab all of the towns from the tuples in\n",
        "our town_weather dictionary. \n",
        "\"\"\"\n",
        "\n",
        "def getTown(myTuple):\n",
        "  return myTuple[0] \n",
        "\n",
        "\"\"\"\n",
        "Taking the above as inspiration, define a function called getHighOrLow. This \n",
        "function should return the second item in any tuple that is passed to it as an \n",
        "argument (in the tuples above, that would be the strings \"high\" and \"low\").\n",
        "\n",
        "This isn't a trick question! The code itself is fairly simple—we just want you \n",
        "to get used to writing smaller functions and code snippets that are part of a \n",
        "larger program. \n",
        "\n",
        "Make sure to name your function exactly as instructed, or the code that \n",
        "depends on it will fail. \n",
        "\n",
        "\"\"\"\n",
        "#Fill in your code here\n",
        "\n",
        "\n",
        "\"\"\"Now, we'll pull this all together! This code below will use the two functions\n",
        "we defined above to first define and then run a function called `reportWeather()`.\n",
        "This function will print the name of each town, with its high and low predictions.\n",
        "\n",
        "You don't need to add anything here, but read through the code and make sure you\n",
        "understand what is happening. \n",
        "\"\"\"\n",
        "def reportWeather(weatherDict):\n",
        "  for townTuple in weatherDict:\n",
        "    townName = getTown(townTuple)\n",
        "    highOrLow = getHighOrLow(townTuple)\n",
        "    temp = weatherDict[townTuple]\n",
        "    print(townName, \"will have a\", highOrLow, \"of\", temp)\n",
        "\n",
        "reportWeather(town_weather)"
      ],
      "metadata": {
        "id": "zayhglG7zmNY"
      },
      "execution_count": null,
      "outputs": []
    },
    {
      "cell_type": "markdown",
      "metadata": {
        "id": "CPgkEr24IAYG"
      },
      "source": [
        "# Solutions\n",
        "These are some sample solutions, but (as we've already noted) you might have taken a different approach. "
      ]
    },
    {
      "cell_type": "code",
      "execution_count": null,
      "metadata": {
        "id": "1yFsEsvRIAYG"
      },
      "outputs": [],
      "source": [
        "# Exercise One\n",
        "def multiply_two(a, b):\n",
        "    multiplied = a * b\n",
        "    return multiplied\n",
        "    \n",
        "# Testing the function\n",
        "multiply_two(7,9)"
      ]
    },
    {
      "cell_type": "code",
      "execution_count": null,
      "metadata": {
        "id": "Zuy8lRjTIAYG"
      },
      "outputs": [],
      "source": [
        "# Exercise Two, Part One\n",
        "# A function to compare two different numbers\n",
        "def compare_two(num1,num2):\n",
        "    if num1 > num2:\n",
        "        return str(num1) + ' is larger.'\n",
        "    elif num2 > num1:\n",
        "        return str(num2) + ' is larger.'\n",
        "    \n",
        "# Testing the new function\n",
        "compare_two(3,23.8)"
      ]
    },
    {
      "cell_type": "code",
      "execution_count": null,
      "metadata": {
        "id": "LHMA_ABcIAYG"
      },
      "outputs": [],
      "source": [
        "# Exercise Two, Part Two\n",
        "# A function to compare two numbers that may be different or equal\n",
        "def compare_two(num1,num2):\n",
        "    if num1 > num2:\n",
        "        return str(num1) + ' is larger.'\n",
        "    elif num2 > num1:\n",
        "        return str(num2) + ' is larger.'\n",
        "    elif num2 == num1: \n",
        "        return str(num1) + ' and ' + str(num2) + ' are equal.'\n",
        "\n",
        "# Testing the new function    \n",
        "compare_two(3,3.0)"
      ]
    },
    {
      "cell_type": "code",
      "execution_count": null,
      "metadata": {
        "id": "UEctDBwOIAYH"
      },
      "outputs": [],
      "source": [
        "# Exercise Three\n",
        "# A function to count the number of key/value pairs in a dictionary\n",
        "def dictionary_counter(dictionary):\n",
        "    count = 0\n",
        "    for key in dictionary:\n",
        "        count = count + 1 # This could also be written count +=1\n",
        "    return count\n",
        "\n",
        "# Testing the new function\n",
        "dictionary_counter(snowfall_nh_jan)"
      ]
    },
    {
      "cell_type": "code",
      "source": [
        "# Exercise Four\n",
        "# Initializes the town_weather dictionary\n",
        "town_weather = {(\"Boston\",\"high\"): 52,\n",
        "                (\"Boston\",\"low\"): 34,\n",
        "                (\"Concord\",\"high\"): 52,\n",
        "                (\"Concord\",\"low\"): 25}\n",
        "\n",
        "# Defines a function for getting towns from the tuples in our dictionary\n",
        "def getTown(myTuple):\n",
        "  return myTuple[0]\n",
        "\n",
        "# Defines a function for getting \"high\" or \"low\" from the tuples in our dictionary\n",
        "def getHighOrLow(myTuple):\n",
        "  return myTuple[1]\n",
        "\n",
        "# Defines a function for printing the weather predictions for the towns in the dictionary\n",
        "def reportWeather(weatherDict):\n",
        "  for townTuple in weatherDict:\n",
        "    townName = getTown(townTuple)\n",
        "    highOrLow = getHighOrLow(townTuple)\n",
        "    temp = weatherDict[townTuple]\n",
        "    print(townName, \"will have a\", highOrLow, \"of\", temp)\n",
        "\n",
        "# Runs the reportWeather function\n",
        "reportWeather(town_weather)"
      ],
      "metadata": {
        "id": "zIzmbEvP3_Gm"
      },
      "execution_count": null,
      "outputs": []
    }
  ],
  "metadata": {
    "kernelspec": {
      "display_name": "Python 3",
      "language": "python",
      "name": "python3"
    },
    "language_info": {
      "codemirror_mode": {
        "name": "ipython",
        "version": 3
      },
      "file_extension": ".py",
      "mimetype": "text/x-python",
      "name": "python",
      "nbconvert_exporter": "python",
      "pygments_lexer": "ipython3",
      "version": "3.8.8"
    },
    "toc": {
      "base_numbering": 1,
      "nav_menu": {},
      "number_sections": true,
      "sideBar": true,
      "skip_h1_title": true,
      "title_cell": "Table of Contents",
      "title_sidebar": "Contents",
      "toc_cell": false,
      "toc_position": {},
      "toc_section_display": true,
      "toc_window_display": false
    },
    "colab": {
      "name": "5_Functions.ipynb",
      "provenance": [],
      "collapsed_sections": []
    }
  },
  "nbformat": 4,
  "nbformat_minor": 0
}