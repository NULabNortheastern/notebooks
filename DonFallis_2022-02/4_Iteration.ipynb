{
  "cells": [
    {
      "cell_type": "markdown",
      "metadata": {
        "id": "Wxn-Rdnd4oXv"
      },
      "source": [
        "<img align=\"left\" src=\"https://ithaka-labs.s3.amazonaws.com/static-files/images/tdm/tdmdocs/CC_BY.png\"><br />\n",
        "\n",
        "Adapted by Sarah Connell from a notebook created by [Nathan Kelber](http://nkelber.com) and Ted Lawless for [JSTOR Labs](https://labs.jstor.org/) under [Creative Commons CC BY License](https://creativecommons.org/licenses/by/4.0/). See [here](https://ithaka.github.io/tdm-notebooks/book/all-notebooks.html) for the original version. Some contents were adapted from teaching notebooks created by Laura Nelson, University of British Columbia, and from [Python for Everybody](https://www.py4e.com/). Warm thanks to Kate Kryder, Data Analysis & Visualization Specialist at Northeastern University, for helping to develop these notebooks.<br />\n",
        "___"
      ]
    },
    {
      "cell_type": "markdown",
      "metadata": {
        "id": "UZ0ZWg0u4oX0"
      },
      "source": [
        "# Iteration\n",
        "\n",
        "Computers are often used to automate repetitive tasks. Repeating identical or similar tasks without making errors is something that computers do well and people do poorly. Because **iteration** is so common, Python provides several language features to make it easier."
      ]
    },
    {
      "cell_type": "markdown",
      "metadata": {
        "id": "sLPIG39p4oX0"
      },
      "source": [
        "## Introduction to `for` loops\n",
        "What is a `for` loop? It is simply a series of instructions, or things to do, that you want to do on multiple elements. It's a way to do the same thing over and over, with different inputs.\n",
        "\n",
        "There are different types of **loops** in Python that can perform repeated tasks by \"looping\" back around to the top of the code until some condition has been met. In this class, we will be focusing on the `for` statement, which allows us to loop through a sequence of things such as the strings or numbers in a tuple, the characters in a string, or the items in a dictionary.\n",
        "\n",
        "That is, the `for` statement will loop through a known set of elements and execute the code in the body on each element in the sequence, stopping when it comes to the end of the sequence of elements. We call each time we execute the body of the loop an **iteration**.\n",
        "\n",
        "When we write a `for` loop, we have a line that starts with `for`, followed by a colon, then the next lines within the `for` loop are indented. When we are done writing the instructions for the `for` loop, we no longer indent the lines. They look a bit like this:\n",
        "\n",
        "`for each element in this set:` <br />\n",
        "&nbsp; &nbsp; &nbsp; &nbsp;`take this action`\n",
        "\n",
        "`for` loops can be used with many different data types. Here is an example `for` loop that operates on the strings in a tuple. \n"
      ]
    },
    {
      "cell_type": "code",
      "execution_count": null,
      "metadata": {
        "id": "drXOzlrq4oX1"
      },
      "outputs": [],
      "source": [
        "friends = ('Tabitha', 'Gregg', 'Shannon')\n",
        "for friend in friends:\n",
        "    print('Happy New Year,', friend)\n",
        "print('Done!')"
      ]
    },
    {
      "cell_type": "markdown",
      "metadata": {
        "id": "i9GDcm3O4oX2"
      },
      "source": [
        "In Python terms:\n",
        "*  `friends` and `friend` are variables \n",
        "* `for` and `in` are reserved Python keywords\n",
        "* the variable `friends` is a **tuple** of three strings and the `for` loop goes through the tuple and executes the body once for each of the three strings\n",
        "\n",
        "`friends` is the tuple that you defined in the first line of code. `friend` is something new: it is the **iteration variable** for this `for` loop. The iteration variable steps successively through the three strings stored in the `friends` variable.\n",
        "\n",
        "As with the variables that we have already seen, you control the name of the iteration variables that you use in `for` loops.\n",
        "\n",
        "For example, this code will do exactly the same thing as the code above:\n"
      ]
    },
    {
      "cell_type": "code",
      "execution_count": null,
      "metadata": {
        "id": "9mnMwCkQ4oX3"
      },
      "outputs": [],
      "source": [
        "friends = ('Tabitha', 'Gregg', 'Shannon')\n",
        "for shark in friends:\n",
        "    print('Happy New Year,', shark)\n",
        "print('Done!')"
      ]
    },
    {
      "cell_type": "markdown",
      "metadata": {
        "id": "Lt3nqQKL4oX4"
      },
      "source": [
        "## `for` loops and dictionaries\n",
        "The above examples used tuples, but you can also write `for` loops to iterate over dictionaries. \n",
        "\n",
        "By default, if you put a dictionary into a `for` loop, it will iterate over the keys in that dictionary. Here's an example of how that works."
      ]
    },
    {
      "cell_type": "code",
      "execution_count": null,
      "metadata": {
        "id": "o2_TS3PE4oX5"
      },
      "outputs": [],
      "source": [
        "short_menu ={\n",
        " 'Breakfast Sandwich': 9.75,\n",
        " 'Croissant Breakfast Sandwich': 11.00,\n",
        " 'Biscuit Sandwich': 9.00}\n",
        "\n",
        "for key in short_menu:\n",
        "    print(key)"
      ]
    },
    {
      "cell_type": "markdown",
      "source": [
        "`key` is the iteration variable in the block above, so it works just the same as `friend` did in our first example. Confirm this for yourself by updating the code below to use a different value for your iteration variable (make sure to change both instances!)."
      ],
      "metadata": {
        "id": "-guHQfBW6O6j"
      }
    },
    {
      "cell_type": "code",
      "source": [
        "# Update this code to use a different iteration variable\n",
        "short_menu ={\n",
        " 'Breakfast Sandwich': 9.75,\n",
        " 'Croissant Breakfast Sandwich': 11.00,\n",
        " 'Biscuit Sandwich': 9.00}\n",
        "\n",
        "for key in short_menu:\n",
        "    print(key)"
      ],
      "metadata": {
        "id": "EoW22G3g6ilj"
      },
      "execution_count": null,
      "outputs": []
    },
    {
      "cell_type": "markdown",
      "metadata": {
        "id": "ciaSUCtM4oX5"
      },
      "source": [
        "We can also use the tools we learned in the last lesson to work with dictionaries. For example, we might want to retrieve values, instead of keys: "
      ]
    },
    {
      "cell_type": "code",
      "execution_count": null,
      "metadata": {
        "id": "aMAcrkXr4oX6"
      },
      "outputs": [],
      "source": [
        "# A program that prints the prices of menu items\n",
        "short_menu ={\n",
        " 'Breakfast Sandwich': 9.75,\n",
        " 'Croissant Breakfast Sandwich': 11.00,\n",
        " 'Biscuit Sandwich': 9.00}\n",
        "\n",
        "for key in short_menu:\n",
        "    print(\"Price: $\",short_menu[key])"
      ]
    },
    {
      "cell_type": "markdown",
      "metadata": {
        "id": "43F9Slb14oX6"
      },
      "source": [
        "Or, pulling these together, we might want both values and keys:"
      ]
    },
    {
      "cell_type": "code",
      "execution_count": null,
      "metadata": {
        "id": "5c_0Vi-u4oX6"
      },
      "outputs": [],
      "source": [
        "# A program that prints the names and prices of menu items\n",
        "short_menu ={\n",
        " 'Breakfast Sandwich': 9.75,\n",
        " 'Croissant Breakfast Sandwich': 11.00,\n",
        " 'Biscuit Sandwich': 9.00}\n",
        "\n",
        "for key in short_menu:\n",
        "    print(\"For our \" + key + \", the price is $\" + str(short_menu[key])) # We're also using concatenation here to improve the spacing\n",
        "    "
      ]
    },
    {
      "cell_type": "markdown",
      "metadata": {
        "id": "GTDZtvVo4oX7"
      },
      "source": [
        "## Performing computation with `for` loops\n",
        "\n",
        "Now, let's look at a few more things that can be done with `for` loops.\n",
        "\n",
        "Often, it is useful to use `for` loops to perform some kind of computation on a set of items. For example, the code below will count the number of items in a tuple by first initializing the tuple, then initializing a `count` variable with a value of 0. \n",
        "\n",
        "The `for` loop then iterates through the items in the tuple, starting at 0 and then increasing by 1 on each iteration. The iteration variable, here called `iter_var`, isn't actually used in the loop, but it causes the loop body to be executed once for each of the values in the list. At the end, the result is that the variable `count` has increased by one for each item in the tuple: when it is printed, you have the count for the total number of items in `favorite_colors`. "
      ]
    },
    {
      "cell_type": "code",
      "execution_count": null,
      "metadata": {
        "id": "KS5gZB8b4oX7"
      },
      "outputs": [],
      "source": [
        "# A program that counts the items in a tuple\n",
        "favorite_colors = ('orange', 'red', 'blue', 'green', 'yellow', 'puce', 'mauve')\n",
        "count = 0\n",
        "for iter_var in favorite_colors:\n",
        "    count = count + 1\n",
        "print('Count: ', count)"
      ]
    },
    {
      "cell_type": "markdown",
      "metadata": {
        "id": "WmJX1N4Q4oX7"
      },
      "source": [
        "We can also write the code block above with a shortcut called the **addition assignment** operator, written as `+=`, which adds a value and a variable and then assigns the result to that variable. \n",
        "\n",
        "Try this out yourself; first run the code below to see that the results are the same, then try adding a few items to our tuple to see the count increase. "
      ]
    },
    {
      "cell_type": "code",
      "execution_count": null,
      "metadata": {
        "id": "XZgr0cSx4oX7"
      },
      "outputs": [],
      "source": [
        "# Run this to try using the addition assignment operator\n",
        "# Then, try adding a few colors to the tuple and run again\n",
        "favorite_colors = ('orange', 'red', 'blue', 'green', 'yellow', 'puce', 'mauve')\n",
        "count = 0\n",
        "for iter_var in favorite_colors:\n",
        "    count +=1\n",
        "print('Count: ', count)"
      ]
    },
    {
      "cell_type": "markdown",
      "metadata": {
        "id": "GFs46Bfd4oX8"
      },
      "source": [
        "A similar loop that computes the total of a set of numbers is as follows:"
      ]
    },
    {
      "cell_type": "code",
      "execution_count": null,
      "metadata": {
        "id": "6uFhyA4F4oX8"
      },
      "outputs": [],
      "source": [
        "# A program to calculate the total of a set of numbers in a tuple\n",
        "favorite_numbers = (3, 41, 12, 9, 74, 15)\n",
        "total = 0\n",
        "for iter_var in favorite_numbers:\n",
        "    total = total + iter_var # Note that this could also be written total +=iter_var with the addition assignment operator\n",
        "print('Total: ', total)"
      ]
    },
    {
      "cell_type": "markdown",
      "metadata": {
        "id": "6ZCtoXHX4oX8"
      },
      "source": [
        "In this loop we do use the iteration variable. Instead of simply adding one to the `count` as in the previous loop, we add the actual number (3, 41, 12, etc.) to the running total during each loop iteration. If you think about the variable `total`, it contains the “running total of the values so far”. \n",
        "\n",
        "* Before the loop starts, `total` is zero because we have not yet seen any values,\n",
        "* during the loop, `total` is the running total, and\n",
        "* at the end of the loop, `total` is the overall total of all the values in the list.\n",
        "\n",
        "**Note:** In practice, there are functions built into Python (`len` and `sum`) that do the same thing as these two examples. But, they are useful as a way of understanding how `for` loops work."
      ]
    },
    {
      "cell_type": "markdown",
      "metadata": {
        "id": "7UBYlvWx4oX9"
      },
      "source": [
        "## Combining loops and conditionals\n",
        "\n",
        "We might also want to do different things to each element in a set depending on the value of that element. We can do so by using conditional statements.\n",
        "\n",
        "For example, say we want to print whether each element in a tuple is a negative number or a positive number. Notice the structure of the following program, and the indentation. Also notice we are implementing the `str()` function. Why are we doing that?"
      ]
    },
    {
      "cell_type": "code",
      "execution_count": null,
      "metadata": {
        "id": "hLLuhDdp4oX-"
      },
      "outputs": [],
      "source": [
        "# A program for printing whether a number is positive or negative\n",
        "num_tuple = (9, 500, 20, -10, -.5)\n",
        "for e in num_tuple:\n",
        "    if e > 0:\n",
        "        print (e, \"is a positive number.\")\n",
        "    elif e <0:\n",
        "        print (e, \"is a negative number.\")"
      ]
    },
    {
      "cell_type": "markdown",
      "metadata": {
        "id": "M_txZsPB4oX-"
      },
      "source": [
        "To find the largest value in sequence, we can construct the following loop. Run this to see what it does and then look below for an explanation."
      ]
    },
    {
      "cell_type": "code",
      "execution_count": null,
      "metadata": {
        "id": "-XHG10f14oX-"
      },
      "outputs": [],
      "source": [
        "# A program for finding the largest number in a tuple\n",
        "sample_tuple = (3, 41, 12, 42, 9, 74, 15, 6)\n",
        "largest = None\n",
        "for iter_var in sample_tuple:\n",
        "    if largest is None or iter_var > largest :\n",
        "        largest = iter_var\n",
        "    print('Testing:', iter_var)\n",
        "    print('The largest so far is', largest)\n",
        "print('The largest number in this tuple is:', largest)"
      ]
    },
    {
      "cell_type": "markdown",
      "metadata": {
        "id": "tELnU3pf4oX-"
      },
      "source": [
        "The variable `largest` is best thought of as the “largest value we have seen so far”. Before the loop, we set `largest` to the constant `None`. `None` is a special constant value which we can store in a variable to mark the variable as “empty”.\n",
        "\n",
        "Before the loop starts, the largest value we have seen so far is `None` since we have not yet seen any values. While the loop is executing, if `largest` is `None` then we take the first value we see as the largest so far. \n",
        "\n",
        "In the first iteration, when the value of `iter_var` is 3, since `largest` is `None`, we immediately set `largest` to be 3.\n",
        "\n",
        "After the first iteration, `largest` is no longer `None`, so the second part of the compound logical expression that checks `iter_var > largest` triggers only when we see a value that is larger than the “largest so far”. When we see a new “even larger” value we take that new value for `largest`. You can see in the program output that `largest` progresses from 3 to 41 to 42 to 74.\n",
        "\n"
      ]
    },
    {
      "cell_type": "markdown",
      "metadata": {
        "id": "mzG8dtS84oX_"
      },
      "source": [
        "`for` loops are very useful, and we will be returning to them in our next lesson on more advanced features of functions. As we'll see, it can be very powerful to create functions that can perform repeated tasks on a set of elements. "
      ]
    },
    {
      "cell_type": "markdown",
      "metadata": {
        "id": "XiRg5lAz4oX_"
      },
      "source": [
        "# Practice Exercises\n",
        "As with the previous lessons, you should first try running the quick exercises in this notebook, and practice making changes and testing their results. \n",
        "\n",
        "The exercises below are written to begin focusing more on the goals of what your code should accomplish, rather than providing step-by-step instructions. This is to help you get ready for the next phase of your work with Python. Take your time and think through what each exercise is asking you to accomplish. "
      ]
    },
    {
      "cell_type": "markdown",
      "metadata": {
        "id": "6I8jzCRC4oX_"
      },
      "source": [
        "**Exercise One**"
      ]
    },
    {
      "cell_type": "markdown",
      "metadata": {
        "id": "6MxYTAEx4oX_"
      },
      "source": [
        "The code below initializes a tuple with class topics. Write a `for` loop that iterates through the tuple and prints out the string \"We will be learning\" followed by each item in the tuple. "
      ]
    },
    {
      "cell_type": "code",
      "execution_count": null,
      "metadata": {
        "id": "STdcpvY14oX_"
      },
      "outputs": [],
      "source": [
        "# Initialize the class_topics tuple\n",
        "class_topics = (\"Types of Inference\", \"Probability Theory\", \"Programming Fundamentals\", \"Bayesian Inference\", \"Probabilistic Graphical Models\", \"Information Theory\", \"Advanced Topics\")\n",
        "\n",
        "# Now write a `for` loop that prints \"We will be learning\" + each topic\n"
      ]
    },
    {
      "cell_type": "markdown",
      "metadata": {
        "id": "qGwuGe2O4oX_"
      },
      "source": [
        "**Exercise Two**"
      ]
    },
    {
      "cell_type": "markdown",
      "metadata": {
        "id": "Ygf-z-V34oX_"
      },
      "source": [
        "Let's return to our dictionary of snowfall totals in Massachusetts. First, we'll initialize the dictionary."
      ]
    },
    {
      "cell_type": "code",
      "execution_count": null,
      "metadata": {
        "id": "VhMaADDH4oX_"
      },
      "outputs": [],
      "source": [
        "snowfall_mass_jan = {\"Boston\": 24.5,\n",
        "\"Brookline\": 15,\n",
        "\"Cambridge\": 14,\n",
        "\"Framingham\": 12.2,\n",
        "\"Malden\": 20,\n",
        "\"Wakefield\": 21.2,\n",
        "\"Norwood\": 10.5}"
      ]
    },
    {
      "cell_type": "markdown",
      "metadata": {
        "id": "kYSHXF2y4oYA"
      },
      "source": [
        "Now, write a program that will print out the town's name if the town received 20 or more inches of snowfall."
      ]
    },
    {
      "cell_type": "code",
      "execution_count": null,
      "metadata": {
        "id": "DB2dCyGf4oYA"
      },
      "outputs": [],
      "source": [
        "# Fill in your code to print the names of towns that received 20 or more inches of snow\n"
      ]
    },
    {
      "cell_type": "markdown",
      "metadata": {
        "id": "TqObvwd54oYA"
      },
      "source": [
        "**Exercise Three**"
      ]
    },
    {
      "cell_type": "markdown",
      "metadata": {
        "id": "CVxulkiw4oYA"
      },
      "source": [
        "Now, can you modify your program to instead add 10 to the value for all towns that received less than 15 inches of snow?"
      ]
    },
    {
      "cell_type": "code",
      "execution_count": null,
      "metadata": {
        "id": "V2u-ToHb4oYA"
      },
      "outputs": [],
      "source": [
        "# Fill in your code here to add 10 to all values that are less than 15\n",
        "# Then, use `print` to confirm that your change worked as expected\n",
        "# You can practice with the addition assignment operator, if you like"
      ]
    },
    {
      "cell_type": "markdown",
      "metadata": {
        "id": "t22nu4-m4oYA"
      },
      "source": [
        "**Exercise Four**"
      ]
    },
    {
      "cell_type": "markdown",
      "metadata": {
        "id": "ib_WhNVB4oYA"
      },
      "source": [
        "Finally, modify your program one last time to:\n",
        "* Calculate the total number of inches of snowfall\n",
        "* Calculate the total number of towns\n",
        "* Calculate the average snowfall per town \n",
        "\n",
        "Use `print` to print out each of these at the end of your program."
      ]
    },
    {
      "cell_type": "code",
      "source": [
        "# Fill in your code here with the final version of your program\n"
      ],
      "metadata": {
        "id": "Cf6NpL1CJiA6"
      },
      "execution_count": null,
      "outputs": []
    },
    {
      "cell_type": "markdown",
      "metadata": {
        "id": "_zpuGiep4oYA"
      },
      "source": [
        "# Solutions\n",
        "These are some sample solutions, but (as we've already noted) you might have taken a different approach. \n"
      ]
    },
    {
      "cell_type": "code",
      "execution_count": null,
      "metadata": {
        "id": "9JIVfWs54oYB"
      },
      "outputs": [],
      "source": [
        "# Exercise One\n",
        "# Initialize the class_topics tuple\n",
        "class_topics = (\"Types of Inference\", \"Probability Theory\", \"Programming Fundamentals\", \"Bayesian Inference\", \"Probabilistic Graphical Models\", \"Information Theory\", \"Advanced Topics\")\n",
        "\n",
        "# Prints the concatenation of the string \"We will be learning \" and each item in the tuple\n",
        "for topic in class_topics:\n",
        "    print(\"We will be learning \" + topic)"
      ]
    },
    {
      "cell_type": "code",
      "execution_count": null,
      "metadata": {
        "id": "izCB5tPa4oYB"
      },
      "outputs": [],
      "source": [
        "# Exercise One\n",
        "# Another approach is not to concatenate (combine) the string and topics when you print\n",
        "# Instead, you can just print one, followed by the other \n",
        "\n",
        "# Prints the string \"We will be learning \" followed by each item in the tuple\n",
        "for topic in class_topics:\n",
        "    print(\"We will be learning\", topic)"
      ]
    },
    {
      "cell_type": "code",
      "execution_count": null,
      "metadata": {
        "id": "YSi2w1-R4oYB"
      },
      "outputs": [],
      "source": [
        "# Exercise Two\n",
        "# Initialize the snowfall_mass_jan dictionary\n",
        "snowfall_mass_jan = {\"Boston\": 24.5,\n",
        "\"Brookline\": 15,\n",
        "\"Cambridge\": 14,\n",
        "\"Framingham\": 12.2,\n",
        "\"Malden\": 20,\n",
        "\"Wakefield\": 21.2,\n",
        "\"Norwood\": 19.5}\n",
        "\n",
        "# Print the keys for towns whose values are greater than or equal to 20\n",
        "for town in snowfall_mass_jan:\n",
        "    if snowfall_mass_jan[town] >= 20:\n",
        "        print(town)"
      ]
    },
    {
      "cell_type": "code",
      "execution_count": null,
      "metadata": {
        "id": "lQ_6l-Nd4oYB"
      },
      "outputs": [],
      "source": [
        "# Exercise Three\n",
        "# Add 10 to all values that are less than 15\n",
        "for town in snowfall_mass_jan:\n",
        "    if snowfall_mass_jan[town] < 15:\n",
        "        snowfall_mass_jan[town] = snowfall_mass_jan[town] + 10\n",
        "print(snowfall_mass_jan)"
      ]
    },
    {
      "cell_type": "code",
      "source": [
        "# Exercise Three\n",
        "# Another approach is to use the addition assignment operator\n",
        "for town in snowfall_mass_jan:\n",
        "    if snowfall_mass_jan[town] < 15:\n",
        "        snowfall_mass_jan[town]+= 10 # This line uses the addition assignment operator instead\n",
        "print(snowfall_mass_jan)"
      ],
      "metadata": {
        "id": "fxMqH5H--6ao"
      },
      "execution_count": null,
      "outputs": []
    },
    {
      "cell_type": "code",
      "execution_count": null,
      "metadata": {
        "id": "ebVUyNQO4oYB"
      },
      "outputs": [],
      "source": [
        "# Exercise Three, \n",
        "# Here's yet a third approach using the addition assignment operator and importing the \"pretty print\" function\n",
        "# We will discuss importing functions in our next lesson!\n",
        "for town in snowfall_mass_jan:\n",
        "    if snowfall_mass_jan[town] < 15:\n",
        "        snowfall_mass_jan[town]+= 10\n",
        "from pprint import pprint # This is how we import `pprint`\n",
        "pprint(snowfall_mass_jan) # And now we can use `pprint` to print a \"prettier\" version of the dictionary"
      ]
    },
    {
      "cell_type": "code",
      "execution_count": null,
      "metadata": {
        "id": "SJIM73Mt4oYC"
      },
      "outputs": [],
      "source": [
        "# Exercise Four\n",
        "# Note that if we wanted to use concatenation here, we would need to change our integers to strings with `str()`\n",
        "total = 0\n",
        "count = 0\n",
        "for town in snowfall_mass_jan:\n",
        "    total = snowfall_mass_jan[town] + total\n",
        "    count = count + 1\n",
        "print(\"The total is:\", total)\n",
        "print(\"The count is:\", count)\n",
        "print(\"The average is:\", total/count)"
      ]
    },
    {
      "cell_type": "code",
      "execution_count": null,
      "metadata": {
        "id": "tcEpMlv54oYC"
      },
      "outputs": [],
      "source": [
        "# Exercise Four\n",
        "# Another approach is to use the addition assignment operator\n",
        "total = 0\n",
        "count = 0\n",
        "for town in snowfall_mass_jan:\n",
        "    total+=snowfall_mass_jan[town]\n",
        "    count+=1\n",
        "print(\"The total is:\", total)\n",
        "print(\"The count is:\", count)\n",
        "print(\"The average is:\", total/count)"
      ]
    }
  ],
  "metadata": {
    "kernelspec": {
      "display_name": "Python 3",
      "language": "python",
      "name": "python3"
    },
    "language_info": {
      "codemirror_mode": {
        "name": "ipython",
        "version": 3
      },
      "file_extension": ".py",
      "mimetype": "text/x-python",
      "name": "python",
      "nbconvert_exporter": "python",
      "pygments_lexer": "ipython3",
      "version": "3.8.8"
    },
    "toc": {
      "base_numbering": 1,
      "nav_menu": {},
      "number_sections": true,
      "sideBar": true,
      "skip_h1_title": true,
      "title_cell": "Table of Contents",
      "title_sidebar": "Contents",
      "toc_cell": false,
      "toc_position": {},
      "toc_section_display": true,
      "toc_window_display": false
    },
    "colab": {
      "name": "4_Iteration.ipynb",
      "provenance": [],
      "collapsed_sections": []
    }
  },
  "nbformat": 4,
  "nbformat_minor": 0
}